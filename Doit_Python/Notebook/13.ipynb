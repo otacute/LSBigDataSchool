{
 "cells": [
  {
   "cell_type": "markdown",
   "id": "e199bb71-bd87-4f8b-8952-cfac6ee2c3e7",
   "metadata": {},
   "source": [
    "# 13 마크다운으로 데이터 분석 보고서 만들기\n",
    "\n",
    "## 13-1 신뢰할 수 있는 데이터 분석 보고서 만들기"
   ]
  },
  {
   "cell_type": "markdown",
   "id": "fdc6dff9-937a-45f8-8d40-e0ed7c04a280",
   "metadata": {},
   "source": [
    "## 13-2 마크다운 문서 만들기\n",
    "\n",
    "### (Do it! 실습) 마크다운 문서 만들기"
   ]
  },
  {
   "cell_type": "raw",
   "id": "549996a4-20e1-400b-80dd-a676169b2219",
   "metadata": {},
   "source": [
    "# 데이터 분석 보고서 만들기\n",
    "\n",
    "## 마크다운\n",
    "\n",
    "마크다운 문법으로 코드를 작성해 [HTML](https://ko.wikipedia.org/wiki/HTML)로 변환할 수 있습니다."
   ]
  },
  {
   "cell_type": "markdown",
   "id": "f300106e-25ea-4e59-a9ce-cc1a2a24d0e9",
   "metadata": {},
   "source": [
    "---"
   ]
  },
  {
   "cell_type": "markdown",
   "id": "0e48f6ce-d1f7-44e5-86da-4be5e2dd382f",
   "metadata": {},
   "source": [
    "# 데이터 분석 보고서 만들기\n",
    "\n",
    "## 마크다운\n",
    "\n",
    "마크다운 문법으로 코드를 작성해 [HTML](https://ko.wikipedia.org/wiki/HTML)로 변환할 수 있습니다."
   ]
  },
  {
   "cell_type": "markdown",
   "id": "70fe2f70-f78e-4576-82cb-19ef46d8bff1",
   "metadata": {},
   "source": [
    "---\n",
    "---"
   ]
  },
  {
   "cell_type": "markdown",
   "id": "1aa03696-a236-45b9-bd08-056df4272b0c",
   "metadata": {},
   "source": [
    "### (Do it! 실습) 마크다운 문법 이용하기"
   ]
  },
  {
   "cell_type": "raw",
   "id": "6b5cb6bf-e861-4dfb-a539-550da42e1fcd",
   "metadata": {
    "tags": []
   },
   "source": [
    "문자 앞뒤에 *특수문자*를 넣으면 기울임체가 됩니다.\n",
    "\n",
    "문자 앞뒤에 **특수문자**를 넣으면 강조체가 됩니다.\n",
    "\n",
    "문자 앞뒤에 ~~특수문자~~를 넣으면 취소선을 만듭니다.\n",
    "\n",
    "문자 앞뒤에 [특수문자](http://www.google.com/search?q=special+character)를 넣으면 하이퍼링크를 만듭니다.\n",
    "\n",
    "# 1 단계 제목\n",
    "## 2 단계 제목\n",
    "### 3 단계 제목\n",
    "#### 4 단계 제목\n",
    "\n",
    "코드에 백틱 기호를 입력하면 `pandas`와 같이 음영을 넣습니다."
   ]
  },
  {
   "cell_type": "markdown",
   "id": "1c8906d3-b332-4b8a-9779-e6b5c774579b",
   "metadata": {},
   "source": [
    "---"
   ]
  },
  {
   "cell_type": "markdown",
   "id": "1ebb29d2-2139-42c6-b754-106c59d16536",
   "metadata": {
    "tags": []
   },
   "source": [
    "문자 앞뒤에 *특수문자*를 넣으면 기울임체가 됩니다.\n",
    "\n",
    "문자 앞뒤에 **특수문자**를 넣으면 강조체가 됩니다.\n",
    "\n",
    "문자 앞뒤에 ~~특수문자~~를 넣으면 취소선을 만듭니다.\n",
    "\n",
    "문자 앞뒤에 [특수문자](http://www.google.com/search?q=special+character)를 넣으면 하이퍼링크를 만듭니다.\n",
    "\n",
    "# 1 단계 제목\n",
    "## 2 단계 제목\n",
    "### 3 단계 제목\n",
    "#### 4 단계 제목\n",
    "\n",
    "코드에 백틱 기호를 입력하면 `pandas`와 같이 음영을 넣습니다."
   ]
  },
  {
   "cell_type": "markdown",
   "id": "5d34fef6-2c92-46f9-a83d-74f729794eef",
   "metadata": {},
   "source": [
    "---\n",
    "---"
   ]
  },
  {
   "cell_type": "markdown",
   "id": "d153b9f1-9af1-41b3-bdbf-fe15cc972cac",
   "metadata": {},
   "source": [
    "### (Do it! 실습) 마크다운으로 데이터 분석 보고서 만들기"
   ]
  },
  {
   "cell_type": "raw",
   "id": "a8df4819-5046-4723-90f2-fff188208cf5",
   "metadata": {},
   "source": [
    "# 데이터 분석 보고서 만들기\n",
    "\n",
    "## 마크다운\n",
    "\n",
    "마크다운 문법으로 코드를 작성해 [HTML](https://ko.wikipedia.org/wiki/HTML)로 변환할 수 있습니다. 마크다운을 이용하면 분석 과정과 결과를 자세하게 기술할 수 있어서 **재현 가능성**을 갖춘 *데이터 분석 보고서*를 만들 수 있습니다.\n",
    "\n",
    "### 마크다운 문법 예제 \n",
    "\n",
    "코드와 코드 실행 결과물을 보고서에 함께 출력합니다."
   ]
  },
  {
   "cell_type": "raw",
   "id": "f9ecff4d-87b1-4878-9e35-e22c17e3bdd5",
   "metadata": {},
   "source": [
    "import pandas as pd\n",
    "df = pd.read_csv('mpg.csv')\n",
    "df['drv'].value_counts()"
   ]
  },
  {
   "cell_type": "raw",
   "id": "4815e9ec-bb85-4b80-a8ad-693b9a6d93f6",
   "metadata": {
    "tags": []
   },
   "source": [
    "import seaborn as sns\n",
    "sns.countplot(data = df, x = 'drv')"
   ]
  },
  {
   "cell_type": "markdown",
   "id": "26d7dd41-c997-48e9-a12a-bb2519e14256",
   "metadata": {},
   "source": [
    "---"
   ]
  },
  {
   "cell_type": "markdown",
   "id": "1ee8f476-1fab-4ec9-8f25-730fa7bb4ba3",
   "metadata": {},
   "source": [
    "# 데이터 분석 보고서 만들기\n",
    "\n",
    "## 마크다운\n",
    "\n",
    "마크다운 문법으로 코드를 작성해 [HTML](https://ko.wikipedia.org/wiki/HTML)로 변환할 수 있습니다. 마크다운을 이용하면 분석 과정과 결과를 자세하게 기술할 수 있어서 **재현 가능성**을 갖춘 *데이터 분석 보고서*를 만들 수 있습니다.\n",
    "\n",
    "### 마크다운 문법 예제 \n",
    "\n",
    "코드와 코드 실행 결과물을 보고서에 함께 출력합니다."
   ]
  },
  {
   "cell_type": "code",
   "execution_count": 1,
   "id": "76a8d1ac-70a6-40ac-bcb8-8e83f0aa7685",
   "metadata": {},
   "outputs": [
    {
     "data": {
      "text/plain": [
       "f    106\n",
       "4    103\n",
       "r     25\n",
       "Name: drv, dtype: int64"
      ]
     },
     "execution_count": 1,
     "metadata": {},
     "output_type": "execute_result"
    }
   ],
   "source": [
    "import pandas as pd\n",
    "df = pd.read_csv('mpg.csv')\n",
    "df['drv'].value_counts()"
   ]
  },
  {
   "cell_type": "code",
   "execution_count": 2,
   "id": "5aa069c0-ff6a-4d3e-92b0-2281cacbe80a",
   "metadata": {
    "tags": []
   },
   "outputs": [
    {
     "data": {
      "text/plain": [
       "<AxesSubplot:xlabel='drv', ylabel='count'>"
      ]
     },
     "execution_count": 2,
     "metadata": {},
     "output_type": "execute_result"
    },
    {
     "data": {
      "image/png": "[encoded data removed]",
      "text/plain": [
       "<Figure size 432x288 with 1 Axes>"
      ]
     },
     "metadata": {
      "needs_background": "light"
     },
     "output_type": "display_data"
    }
   ],
   "source": [
    "import seaborn as sns\n",
    "sns.countplot(data = df, x = 'drv')"
   ]
  },
  {
   "cell_type": "markdown",
   "id": "5760513d-a46c-4037-b148-de70a9655b43",
   "metadata": {},
   "source": [
    "---\n",
    "---"
   ]
  },
  {
   "cell_type": "markdown",
   "id": "2c7ff20c",
   "metadata": {},
   "source": [
    "### (Do it! 실습) 문서 파일로 저장하기\n",
    "\n",
    "**워드 파일로 저장하기**"
   ]
  },
  {
   "cell_type": "code",
   "execution_count": 3,
   "id": "b328d6ad-c698-40ce-b1d1-df4eef924148",
   "metadata": {
    "eval": false
   },
   "outputs": [],
   "source": [
    "# !pandoc report.ipynb -s -o report.docx"
   ]
  }
 ],
 "metadata": {
  "jupytext": {
   "cell_metadata_filter": "eval,-all",
   "notebook_metadata_filter": "-all"
  },
  "kernelspec": {
   "display_name": "Python 3 (ipykernel)",
   "language": "python",
   "name": "python3"
  },
  "language_info": {
   "codemirror_mode": {
    "name": "ipython",
    "version": 3
   },
   "file_extension": ".py",
   "mimetype": "text/x-python",
   "name": "python",
   "nbconvert_exporter": "python",
   "pygments_lexer": "ipython3",
   "version": "3.9.11"
  }
 },
 "nbformat": 4,
 "nbformat_minor": 5
}
