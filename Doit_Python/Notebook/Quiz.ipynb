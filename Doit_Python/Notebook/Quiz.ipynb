{
 "cells": [
  {
   "cell_type": "code",
   "execution_count": 1,
   "id": "2d8066c5-8bf3-4fca-9c47-2ec69ae15dea",
   "metadata": {},
   "outputs": [],
   "source": [
    "# 그래프 해상도 설정\n",
    "import matplotlib.pyplot as plt\n",
    "plt.rcParams.update({'figure.dpi' : '100'})\n",
    "%config InlineBackend.figure_format = 'retina'\n",
    "\n",
    "# 패키지 로드\n",
    "import pandas as pd\n",
    "import numpy as np\n",
    "import seaborn as sns"
   ]
  },
  {
   "cell_type": "markdown",
   "id": "55c30740-60a1-470a-926d-65ec6e47dd1d",
   "metadata": {},
   "source": [
    "# 퀴즈 정답\n",
    "---"
   ]
  },
  {
   "cell_type": "markdown",
   "id": "615b3a53",
   "metadata": {},
   "source": [
    "### 73쪽 혼자서 해보기\n",
    "\n",
    "#### Q1"
   ]
  },
  {
   "cell_type": "code",
   "execution_count": 2,
   "id": "f91f8da4",
   "metadata": {},
   "outputs": [
    {
     "data": {
      "text/plain": [
       "[80, 60, 70, 50, 90]"
      ]
     },
     "execution_count": 2,
     "metadata": {},
     "output_type": "execute_result"
    }
   ],
   "source": [
    "score = [80, 60, 70, 50, 90]  # 변수 만들기\n",
    "score                         # 출력하기"
   ]
  },
  {
   "cell_type": "markdown",
   "id": "0d99ef47",
   "metadata": {},
   "source": [
    "#### Q2"
   ]
  },
  {
   "cell_type": "code",
   "execution_count": 3,
   "id": "0f797d81",
   "metadata": {},
   "outputs": [
    {
     "data": {
      "text/plain": [
       "350"
      ]
     },
     "execution_count": 3,
     "metadata": {},
     "output_type": "execute_result"
    }
   ],
   "source": [
    "sum(score)                    # score의 합계 구하기"
   ]
  },
  {
   "cell_type": "markdown",
   "id": "d28dae0e",
   "metadata": {},
   "source": [
    "#### Q3"
   ]
  },
  {
   "cell_type": "code",
   "execution_count": 4,
   "id": "e7177590",
   "metadata": {
    "lines_to_next_cell": 2
   },
   "outputs": [
    {
     "data": {
      "text/plain": [
       "350"
      ]
     },
     "execution_count": 4,
     "metadata": {},
     "output_type": "execute_result"
    }
   ],
   "source": [
    "sum_score = sum(score)        # score의 합계를 담은 변수 만들기\n",
    "sum_score                     # sum_score 출력하기"
   ]
  },
  {
   "cell_type": "markdown",
   "id": "4ce848fc",
   "metadata": {},
   "source": [
    "### 84쪽 혼자서 해보기\n",
    "\n",
    "#### Q1"
   ]
  },
  {
   "cell_type": "code",
   "execution_count": 5,
   "id": "ccaafb06",
   "metadata": {},
   "outputs": [
    {
     "data": {
      "text/html": [
       "<div>\n",
       "<style scoped>\n",
       "    .dataframe tbody tr th:only-of-type {\n",
       "        vertical-align: middle;\n",
       "    }\n",
       "\n",
       "    .dataframe tbody tr th {\n",
       "        vertical-align: top;\n",
       "    }\n",
       "\n",
       "    .dataframe thead th {\n",
       "        text-align: right;\n",
       "    }\n",
       "</style>\n",
       "<table border=\"1\" class=\"dataframe\">\n",
       "  <thead>\n",
       "    <tr style=\"text-align: right;\">\n",
       "      <th></th>\n",
       "      <th>fruit</th>\n",
       "      <th>price</th>\n",
       "      <th>volume</th>\n",
       "    </tr>\n",
       "  </thead>\n",
       "  <tbody>\n",
       "    <tr>\n",
       "      <th>0</th>\n",
       "      <td>사과</td>\n",
       "      <td>1800</td>\n",
       "      <td>24</td>\n",
       "    </tr>\n",
       "    <tr>\n",
       "      <th>1</th>\n",
       "      <td>딸기</td>\n",
       "      <td>1500</td>\n",
       "      <td>38</td>\n",
       "    </tr>\n",
       "    <tr>\n",
       "      <th>2</th>\n",
       "      <td>수박</td>\n",
       "      <td>3000</td>\n",
       "      <td>13</td>\n",
       "    </tr>\n",
       "  </tbody>\n",
       "</table>\n",
       "</div>"
      ],
      "text/plain": [
       "  fruit  price  volume\n",
       "0    사과   1800      24\n",
       "1    딸기   1500      38\n",
       "2    수박   3000      13"
      ]
     },
     "execution_count": 5,
     "metadata": {},
     "output_type": "execute_result"
    }
   ],
   "source": [
    "# 데이터 프레임 만들기\n",
    "sales = pd.DataFrame({'fruit'  : ['사과', '딸기', '수박'],\n",
    "                      'price'  : [1800, 1500, 3000],\n",
    "                      'volume' : [24, 38, 13]})\n",
    "\n",
    "# 데이터 프레임 출력하기\n",
    "sales"
   ]
  },
  {
   "cell_type": "markdown",
   "id": "8c8e6f75",
   "metadata": {},
   "source": [
    "#### Q2"
   ]
  },
  {
   "cell_type": "code",
   "execution_count": 6,
   "id": "411efb71",
   "metadata": {},
   "outputs": [
    {
     "data": {
      "text/plain": [
       "2100.0"
      ]
     },
     "execution_count": 6,
     "metadata": {},
     "output_type": "execute_result"
    }
   ],
   "source": [
    "sum(sales['price']) / 3   # 가격 평균 구하기"
   ]
  },
  {
   "cell_type": "markdown",
   "id": "0e83b4f9",
   "metadata": {},
   "source": [
    "<br>"
   ]
  },
  {
   "cell_type": "code",
   "execution_count": 7,
   "id": "34e2a347",
   "metadata": {
    "lines_to_next_cell": 2
   },
   "outputs": [
    {
     "data": {
      "text/plain": [
       "25.0"
      ]
     },
     "execution_count": 7,
     "metadata": {},
     "output_type": "execute_result"
    }
   ],
   "source": [
    "sum(sales['volume']) / 3  # 판매량 평균 구하기"
   ]
  },
  {
   "cell_type": "markdown",
   "id": "7de651c4",
   "metadata": {},
   "source": [
    "### 115쪽 혼자서 해보기\n",
    "\n",
    "#### Q1"
   ]
  },
  {
   "cell_type": "code",
   "execution_count": 8,
   "id": "400e7bb3",
   "metadata": {
    "eval": false
   },
   "outputs": [],
   "source": [
    "mpg = pd.read_csv('mpg.csv')  # mpg 데이터 불러오기\n",
    "mpg_new = mpg.copy()          # 복사본 만들기"
   ]
  },
  {
   "cell_type": "markdown",
   "id": "3a355981",
   "metadata": {},
   "source": [
    "#### Q2"
   ]
  },
  {
   "cell_type": "code",
   "execution_count": 9,
   "id": "5a280bf8",
   "metadata": {},
   "outputs": [],
   "source": [
    "mpg_new = mpg_new.rename(columns = {'cty' : 'city'})     # cty를 city로 수정\n",
    "mpg_new = mpg_new.rename(columns = {'hwy' : 'highway'})  # hwy를 highway로 수정"
   ]
  },
  {
   "cell_type": "markdown",
   "id": "82be4f6d",
   "metadata": {},
   "source": [
    "#### Q3"
   ]
  },
  {
   "cell_type": "code",
   "execution_count": 10,
   "id": "89f20c79",
   "metadata": {
    "lines_to_next_cell": 0
   },
   "outputs": [
    {
     "data": {
      "text/html": [
       "<div>\n",
       "<style scoped>\n",
       "    .dataframe tbody tr th:only-of-type {\n",
       "        vertical-align: middle;\n",
       "    }\n",
       "\n",
       "    .dataframe tbody tr th {\n",
       "        vertical-align: top;\n",
       "    }\n",
       "\n",
       "    .dataframe thead th {\n",
       "        text-align: right;\n",
       "    }\n",
       "</style>\n",
       "<table border=\"1\" class=\"dataframe\">\n",
       "  <thead>\n",
       "    <tr style=\"text-align: right;\">\n",
       "      <th></th>\n",
       "      <th>manufacturer</th>\n",
       "      <th>model</th>\n",
       "      <th>displ</th>\n",
       "      <th>year</th>\n",
       "      <th>cyl</th>\n",
       "      <th>trans</th>\n",
       "      <th>drv</th>\n",
       "      <th>city</th>\n",
       "      <th>highway</th>\n",
       "      <th>fl</th>\n",
       "      <th>category</th>\n",
       "    </tr>\n",
       "  </thead>\n",
       "  <tbody>\n",
       "    <tr>\n",
       "      <th>0</th>\n",
       "      <td>audi</td>\n",
       "      <td>a4</td>\n",
       "      <td>1.8</td>\n",
       "      <td>1999</td>\n",
       "      <td>4</td>\n",
       "      <td>auto(l5)</td>\n",
       "      <td>f</td>\n",
       "      <td>18</td>\n",
       "      <td>29</td>\n",
       "      <td>p</td>\n",
       "      <td>compact</td>\n",
       "    </tr>\n",
       "    <tr>\n",
       "      <th>1</th>\n",
       "      <td>audi</td>\n",
       "      <td>a4</td>\n",
       "      <td>1.8</td>\n",
       "      <td>1999</td>\n",
       "      <td>4</td>\n",
       "      <td>manual(m5)</td>\n",
       "      <td>f</td>\n",
       "      <td>21</td>\n",
       "      <td>29</td>\n",
       "      <td>p</td>\n",
       "      <td>compact</td>\n",
       "    </tr>\n",
       "    <tr>\n",
       "      <th>2</th>\n",
       "      <td>audi</td>\n",
       "      <td>a4</td>\n",
       "      <td>2.0</td>\n",
       "      <td>2008</td>\n",
       "      <td>4</td>\n",
       "      <td>manual(m6)</td>\n",
       "      <td>f</td>\n",
       "      <td>20</td>\n",
       "      <td>31</td>\n",
       "      <td>p</td>\n",
       "      <td>compact</td>\n",
       "    </tr>\n",
       "    <tr>\n",
       "      <th>3</th>\n",
       "      <td>audi</td>\n",
       "      <td>a4</td>\n",
       "      <td>2.0</td>\n",
       "      <td>2008</td>\n",
       "      <td>4</td>\n",
       "      <td>auto(av)</td>\n",
       "      <td>f</td>\n",
       "      <td>21</td>\n",
       "      <td>30</td>\n",
       "      <td>p</td>\n",
       "      <td>compact</td>\n",
       "    </tr>\n",
       "    <tr>\n",
       "      <th>4</th>\n",
       "      <td>audi</td>\n",
       "      <td>a4</td>\n",
       "      <td>2.8</td>\n",
       "      <td>1999</td>\n",
       "      <td>6</td>\n",
       "      <td>auto(l5)</td>\n",
       "      <td>f</td>\n",
       "      <td>16</td>\n",
       "      <td>26</td>\n",
       "      <td>p</td>\n",
       "      <td>compact</td>\n",
       "    </tr>\n",
       "  </tbody>\n",
       "</table>\n",
       "</div>"
      ],
      "text/plain": [
       "  manufacturer model  displ  year  cyl       trans drv  city  highway fl  \\\n",
       "0         audi    a4    1.8  1999    4    auto(l5)   f    18       29  p   \n",
       "1         audi    a4    1.8  1999    4  manual(m5)   f    21       29  p   \n",
       "2         audi    a4    2.0  2008    4  manual(m6)   f    20       31  p   \n",
       "3         audi    a4    2.0  2008    4    auto(av)   f    21       30  p   \n",
       "4         audi    a4    2.8  1999    6    auto(l5)   f    16       26  p   \n",
       "\n",
       "  category  \n",
       "0  compact  \n",
       "1  compact  \n",
       "2  compact  \n",
       "3  compact  \n",
       "4  compact  "
      ]
     },
     "execution_count": 10,
     "metadata": {},
     "output_type": "execute_result"
    }
   ],
   "source": [
    "mpg_new.head()  # 데이터 일부 출력"
   ]
  },
  {
   "cell_type": "markdown",
   "id": "6e5015fd",
   "metadata": {},
   "source": [
    "### 130쪽 분석 도전\n",
    "\n",
    "#### 문제 1"
   ]
  },
  {
   "cell_type": "code",
   "execution_count": 11,
   "id": "94b8837c",
   "metadata": {
    "eval": false
   },
   "outputs": [],
   "source": [
    "midwest = pd.read_csv('midwest.csv')  # midwest 데이터 불러오기\n",
    "# midwest.head()                        # 앞부분 출력\n",
    "# midwest.tail()                        # 뒷부분 출력\n",
    "# midwest.shape                         # 행, 열 개수 출력\n",
    "# midwest.info()                        # 변수 속성 출력\n",
    "# midwest.describe()                    # 요약 통계량 출력"
   ]
  },
  {
   "cell_type": "markdown",
   "id": "fa9b63a3",
   "metadata": {},
   "source": [
    "> (편집) 결과 생략 표시\n",
    "\n",
    "#### 문제 2"
   ]
  },
  {
   "cell_type": "code",
   "execution_count": 12,
   "id": "394d3acd",
   "metadata": {},
   "outputs": [],
   "source": [
    "# poptotal을 total로 수정\n",
    "midwest = midwest.rename(columns = {'poptotal' : 'total'})  \n",
    "\n",
    "# popasian을 asian으로 수정\n",
    "midwest = midwest.rename(columns = {'popasian' : 'asian'})"
   ]
  },
  {
   "cell_type": "markdown",
   "id": "dfaaa080",
   "metadata": {},
   "source": [
    "#### 문제 3"
   ]
  },
  {
   "cell_type": "code",
   "execution_count": 13,
   "id": "e838f018",
   "metadata": {
    "eval": false
   },
   "outputs": [
    {
     "data": {
      "text/plain": [
       "<Axes: ylabel='Frequency'>"
      ]
     },
     "execution_count": 13,
     "metadata": {},
     "output_type": "execute_result"
    },
    {
     "data": {
      "image/png": "[encoded data removed]",
      "text/plain": [
       "<Figure size 640x480 with 1 Axes>"
      ]
     },
     "metadata": {
      "image/png": {
       "height": 413,
       "width": 571
      }
     },
     "output_type": "display_data"
    }
   ],
   "source": [
    "# 백분율 변수 추가\n",
    "midwest['ratio'] = midwest['asian']/midwest['total'] * 100  \n",
    "\n",
    "# 히스토그램 만들기\n",
    "midwest['ratio'].plot.hist()                                "
   ]
  },
  {
   "cell_type": "markdown",
   "id": "bf7860af",
   "metadata": {},
   "source": [
    "#### 문제 4"
   ]
  },
  {
   "cell_type": "code",
   "execution_count": 14,
   "id": "08c16ae0",
   "metadata": {
    "lines_to_next_cell": 2
   },
   "outputs": [
    {
     "data": {
      "text/plain": [
       "0.4872461834357345"
      ]
     },
     "execution_count": 14,
     "metadata": {},
     "output_type": "execute_result"
    }
   ],
   "source": [
    "# ratio 평균\n",
    "midwest['ratio'].mean()"
   ]
  },
  {
   "cell_type": "code",
   "execution_count": 15,
   "id": "24899ff7",
   "metadata": {},
   "outputs": [],
   "source": [
    "# large, small 부여\n",
    "midwest['group'] = np.where(midwest['ratio'] > 0.4872, 'large', 'small')"
   ]
  },
  {
   "cell_type": "markdown",
   "id": "277881b3",
   "metadata": {},
   "source": [
    "#### 문제 5"
   ]
  },
  {
   "cell_type": "code",
   "execution_count": 16,
   "id": "8b9b6d4e",
   "metadata": {},
   "outputs": [
    {
     "data": {
      "text/plain": [
       "group\n",
       "small    318\n",
       "large    119\n",
       "Name: count, dtype: int64"
      ]
     },
     "execution_count": 16,
     "metadata": {},
     "output_type": "execute_result"
    }
   ],
   "source": [
    "# group 빈도 구하기\n",
    "count_group = midwest['group'].value_counts()  \n",
    "count_group"
   ]
  },
  {
   "cell_type": "code",
   "execution_count": 17,
   "id": "3be975f6",
   "metadata": {
    "eval": false
   },
   "outputs": [
    {
     "data": {
      "text/plain": [
       "<Axes: xlabel='group'>"
      ]
     },
     "execution_count": 17,
     "metadata": {},
     "output_type": "execute_result"
    },
    {
     "data": {
      "image/png": "[encoded data removed]",
      "text/plain": [
       "<Figure size 640x480 with 1 Axes>"
      ]
     },
     "metadata": {
      "image/png": {
       "height": 432,
       "width": 552
      }
     },
     "output_type": "display_data"
    }
   ],
   "source": [
    "# 막대 그래프 만들기\n",
    "count_group.plot.bar(rot = 0)                  "
   ]
  },
  {
   "cell_type": "markdown",
   "id": "f273e9ca",
   "metadata": {},
   "source": [
    "### 144쪽 혼자서 해보기\n",
    "\n",
    "#### Q1"
   ]
  },
  {
   "cell_type": "code",
   "execution_count": 18,
   "id": "26dd744d",
   "metadata": {
    "eval": false
   },
   "outputs": [],
   "source": [
    "mpg = pd.read_csv('mpg.csv')     # mpg 데이터 불러오기\n",
    "mpg_a = mpg.query('displ <= 4')  # displ 4 이하 추출\n",
    "mpg_b = mpg.query('displ >= 5')  # displ 5 이상 추출"
   ]
  },
  {
   "cell_type": "code",
   "execution_count": 19,
   "id": "78f8af82",
   "metadata": {},
   "outputs": [
    {
     "data": {
      "text/plain": [
       "25.96319018404908"
      ]
     },
     "execution_count": 19,
     "metadata": {},
     "output_type": "execute_result"
    }
   ],
   "source": [
    "mpg_a['hwy'].mean()  # displ 4 이하의 hwy 평균"
   ]
  },
  {
   "cell_type": "code",
   "execution_count": 20,
   "id": "03afc995",
   "metadata": {},
   "outputs": [
    {
     "data": {
      "text/plain": [
       "18.07894736842105"
      ]
     },
     "execution_count": 20,
     "metadata": {},
     "output_type": "execute_result"
    }
   ],
   "source": [
    "mpg_b['hwy'].mean()  # displ 5 이상의 hwy 평균"
   ]
  },
  {
   "cell_type": "markdown",
   "id": "55bffd29",
   "metadata": {},
   "source": [
    "#### Q2"
   ]
  },
  {
   "cell_type": "code",
   "execution_count": 21,
   "id": "966e4689",
   "metadata": {},
   "outputs": [],
   "source": [
    "mpg_audi   = mpg.query('manufacturer == \"audi\"')    # audi 추출\n",
    "mpg_toyota = mpg.query('manufacturer == \"toyota\"')  # toyota 추출"
   ]
  },
  {
   "cell_type": "code",
   "execution_count": 22,
   "id": "b2ace537",
   "metadata": {},
   "outputs": [
    {
     "data": {
      "text/plain": [
       "17.61111111111111"
      ]
     },
     "execution_count": 22,
     "metadata": {},
     "output_type": "execute_result"
    }
   ],
   "source": [
    "mpg_audi['cty'].mean()    # audi의 cty 평균"
   ]
  },
  {
   "cell_type": "code",
   "execution_count": 23,
   "id": "4ada46dc",
   "metadata": {},
   "outputs": [
    {
     "data": {
      "text/plain": [
       "18.529411764705884"
      ]
     },
     "execution_count": 23,
     "metadata": {},
     "output_type": "execute_result"
    }
   ],
   "source": [
    "mpg_toyota['cty'].mean()  # toyota의 cty 평균"
   ]
  },
  {
   "cell_type": "markdown",
   "id": "a92b330a",
   "metadata": {},
   "source": [
    "#### Q3"
   ]
  },
  {
   "cell_type": "code",
   "execution_count": 24,
   "id": "7b08a19f",
   "metadata": {
    "lines_to_next_cell": 2
   },
   "outputs": [
    {
     "data": {
      "text/plain": [
       "22.50943396226415"
      ]
     },
     "execution_count": 24,
     "metadata": {},
     "output_type": "execute_result"
    }
   ],
   "source": [
    "# manufacturer가 chevrolet, ford, honda에 해당하면 추출\n",
    "mpg_new = mpg.query('manufacturer in [\"chevrolet\", \"ford\", \"honda\"]')\n",
    "mpg_new['hwy'].mean()"
   ]
  },
  {
   "cell_type": "markdown",
   "id": "a0a3865b",
   "metadata": {},
   "source": [
    "### 150쪽 혼자서 해보기\n",
    "\n",
    "#### Q1"
   ]
  },
  {
   "cell_type": "code",
   "execution_count": 25,
   "id": "67794cf4",
   "metadata": {
    "eval": false
   },
   "outputs": [
    {
     "data": {
      "text/html": [
       "<div>\n",
       "<style scoped>\n",
       "    .dataframe tbody tr th:only-of-type {\n",
       "        vertical-align: middle;\n",
       "    }\n",
       "\n",
       "    .dataframe tbody tr th {\n",
       "        vertical-align: top;\n",
       "    }\n",
       "\n",
       "    .dataframe thead th {\n",
       "        text-align: right;\n",
       "    }\n",
       "</style>\n",
       "<table border=\"1\" class=\"dataframe\">\n",
       "  <thead>\n",
       "    <tr style=\"text-align: right;\">\n",
       "      <th></th>\n",
       "      <th>category</th>\n",
       "      <th>cty</th>\n",
       "    </tr>\n",
       "  </thead>\n",
       "  <tbody>\n",
       "    <tr>\n",
       "      <th>0</th>\n",
       "      <td>compact</td>\n",
       "      <td>18</td>\n",
       "    </tr>\n",
       "    <tr>\n",
       "      <th>1</th>\n",
       "      <td>compact</td>\n",
       "      <td>21</td>\n",
       "    </tr>\n",
       "    <tr>\n",
       "      <th>2</th>\n",
       "      <td>compact</td>\n",
       "      <td>20</td>\n",
       "    </tr>\n",
       "    <tr>\n",
       "      <th>3</th>\n",
       "      <td>compact</td>\n",
       "      <td>21</td>\n",
       "    </tr>\n",
       "    <tr>\n",
       "      <th>4</th>\n",
       "      <td>compact</td>\n",
       "      <td>16</td>\n",
       "    </tr>\n",
       "  </tbody>\n",
       "</table>\n",
       "</div>"
      ],
      "text/plain": [
       "  category  cty\n",
       "0  compact   18\n",
       "1  compact   21\n",
       "2  compact   20\n",
       "3  compact   21\n",
       "4  compact   16"
      ]
     },
     "execution_count": 25,
     "metadata": {},
     "output_type": "execute_result"
    }
   ],
   "source": [
    "mpg = pd.read_csv('mpg.csv')        # mpg 데이터 불러오기\n",
    "mpg_new = mpg[['category', 'cty']]  # category, cty 추출\n",
    "mpg_new.head()                      # mpg_new 일부 출력"
   ]
  },
  {
   "cell_type": "markdown",
   "id": "98d45e55",
   "metadata": {},
   "source": [
    "#### Q2"
   ]
  },
  {
   "cell_type": "code",
   "execution_count": 26,
   "id": "6e893295",
   "metadata": {},
   "outputs": [
    {
     "data": {
      "text/plain": [
       "13.5"
      ]
     },
     "execution_count": 26,
     "metadata": {},
     "output_type": "execute_result"
    }
   ],
   "source": [
    "mpg_new.query('category == \"suv\"')['cty'].mean()  # suv의 cty 평균"
   ]
  },
  {
   "cell_type": "code",
   "execution_count": 27,
   "id": "07fd14f8",
   "metadata": {
    "lines_to_next_cell": 2
   },
   "outputs": [
    {
     "data": {
      "text/plain": [
       "20.127659574468087"
      ]
     },
     "execution_count": 27,
     "metadata": {},
     "output_type": "execute_result"
    }
   ],
   "source": [
    "mpg_new.query('category == \"compact\"')['cty'].mean()  # compact의 cty 평균"
   ]
  },
  {
   "cell_type": "markdown",
   "id": "4ec8b018",
   "metadata": {},
   "source": [
    "### 153쪽 혼자서 해보기\n",
    "\n",
    "#### Q1"
   ]
  },
  {
   "cell_type": "code",
   "execution_count": 28,
   "id": "e7bcb81a",
   "metadata": {
    "eval": false
   },
   "outputs": [
    {
     "data": {
      "text/html": [
       "<div>\n",
       "<style scoped>\n",
       "    .dataframe tbody tr th:only-of-type {\n",
       "        vertical-align: middle;\n",
       "    }\n",
       "\n",
       "    .dataframe tbody tr th {\n",
       "        vertical-align: top;\n",
       "    }\n",
       "\n",
       "    .dataframe thead th {\n",
       "        text-align: right;\n",
       "    }\n",
       "</style>\n",
       "<table border=\"1\" class=\"dataframe\">\n",
       "  <thead>\n",
       "    <tr style=\"text-align: right;\">\n",
       "      <th></th>\n",
       "      <th>manufacturer</th>\n",
       "      <th>model</th>\n",
       "      <th>displ</th>\n",
       "      <th>year</th>\n",
       "      <th>cyl</th>\n",
       "      <th>trans</th>\n",
       "      <th>drv</th>\n",
       "      <th>cty</th>\n",
       "      <th>hwy</th>\n",
       "      <th>fl</th>\n",
       "      <th>category</th>\n",
       "    </tr>\n",
       "  </thead>\n",
       "  <tbody>\n",
       "    <tr>\n",
       "      <th>2</th>\n",
       "      <td>audi</td>\n",
       "      <td>a4</td>\n",
       "      <td>2.0</td>\n",
       "      <td>2008</td>\n",
       "      <td>4</td>\n",
       "      <td>manual(m6)</td>\n",
       "      <td>f</td>\n",
       "      <td>20</td>\n",
       "      <td>31</td>\n",
       "      <td>p</td>\n",
       "      <td>compact</td>\n",
       "    </tr>\n",
       "    <tr>\n",
       "      <th>3</th>\n",
       "      <td>audi</td>\n",
       "      <td>a4</td>\n",
       "      <td>2.0</td>\n",
       "      <td>2008</td>\n",
       "      <td>4</td>\n",
       "      <td>auto(av)</td>\n",
       "      <td>f</td>\n",
       "      <td>21</td>\n",
       "      <td>30</td>\n",
       "      <td>p</td>\n",
       "      <td>compact</td>\n",
       "    </tr>\n",
       "    <tr>\n",
       "      <th>0</th>\n",
       "      <td>audi</td>\n",
       "      <td>a4</td>\n",
       "      <td>1.8</td>\n",
       "      <td>1999</td>\n",
       "      <td>4</td>\n",
       "      <td>auto(l5)</td>\n",
       "      <td>f</td>\n",
       "      <td>18</td>\n",
       "      <td>29</td>\n",
       "      <td>p</td>\n",
       "      <td>compact</td>\n",
       "    </tr>\n",
       "    <tr>\n",
       "      <th>1</th>\n",
       "      <td>audi</td>\n",
       "      <td>a4</td>\n",
       "      <td>1.8</td>\n",
       "      <td>1999</td>\n",
       "      <td>4</td>\n",
       "      <td>manual(m5)</td>\n",
       "      <td>f</td>\n",
       "      <td>21</td>\n",
       "      <td>29</td>\n",
       "      <td>p</td>\n",
       "      <td>compact</td>\n",
       "    </tr>\n",
       "    <tr>\n",
       "      <th>9</th>\n",
       "      <td>audi</td>\n",
       "      <td>a4 quattro</td>\n",
       "      <td>2.0</td>\n",
       "      <td>2008</td>\n",
       "      <td>4</td>\n",
       "      <td>manual(m6)</td>\n",
       "      <td>4</td>\n",
       "      <td>20</td>\n",
       "      <td>28</td>\n",
       "      <td>p</td>\n",
       "      <td>compact</td>\n",
       "    </tr>\n",
       "  </tbody>\n",
       "</table>\n",
       "</div>"
      ],
      "text/plain": [
       "  manufacturer       model  displ  year  cyl       trans drv  cty  hwy fl  \\\n",
       "2         audi          a4    2.0  2008    4  manual(m6)   f   20   31  p   \n",
       "3         audi          a4    2.0  2008    4    auto(av)   f   21   30  p   \n",
       "0         audi          a4    1.8  1999    4    auto(l5)   f   18   29  p   \n",
       "1         audi          a4    1.8  1999    4  manual(m5)   f   21   29  p   \n",
       "9         audi  a4 quattro    2.0  2008    4  manual(m6)   4   20   28  p   \n",
       "\n",
       "  category  \n",
       "2  compact  \n",
       "3  compact  \n",
       "0  compact  \n",
       "1  compact  \n",
       "9  compact  "
      ]
     },
     "execution_count": 28,
     "metadata": {},
     "output_type": "execute_result"
    }
   ],
   "source": [
    "# mpg 데이터 불러오기\n",
    "# audi 추출\n",
    "# hwy 내림차순 정렬\n",
    "# 5행까지 출력\n",
    "mpg = pd.read_csv('mpg.csv')     \n",
    "mpg.query('manufacturer == \"audi\"') \\\n",
    "   .sort_values('hwy', ascending = False) \\\n",
    "   .head()"
   ]
  },
  {
   "cell_type": "markdown",
   "id": "c4cf51d4",
   "metadata": {},
   "source": [
    "### 158쪽 혼자서 해보기\n",
    "\n",
    "#### Q1"
   ]
  },
  {
   "cell_type": "code",
   "execution_count": 29,
   "id": "24c3ccc3",
   "metadata": {
    "eval": false
   },
   "outputs": [],
   "source": [
    "mpg = pd.read_csv('mpg.csv')  # mpg 데이터 불러오기\n",
    "mpg_new = mpg.copy()          # mpg 복사본 만들기\n",
    "\n",
    "# 합산 연비 변수 추가\n",
    "mpg_new = mpg_new.assign(total = mpg_new['cty'] + mpg_new['hwy'])  "
   ]
  },
  {
   "cell_type": "markdown",
   "id": "e5958376",
   "metadata": {},
   "source": [
    "#### Q2"
   ]
  },
  {
   "cell_type": "code",
   "execution_count": 30,
   "id": "8f7ac560",
   "metadata": {},
   "outputs": [],
   "source": [
    "# 평균 연비 변수 추가\n",
    "mpg_new = mpg_new.assign(mean = mpg_new['total'] / 2)  "
   ]
  },
  {
   "cell_type": "markdown",
   "id": "c5784df2",
   "metadata": {},
   "source": [
    "#### Q3"
   ]
  },
  {
   "cell_type": "code",
   "execution_count": 31,
   "id": "d28872f2",
   "metadata": {},
   "outputs": [
    {
     "data": {
      "text/html": [
       "<div>\n",
       "<style scoped>\n",
       "    .dataframe tbody tr th:only-of-type {\n",
       "        vertical-align: middle;\n",
       "    }\n",
       "\n",
       "    .dataframe tbody tr th {\n",
       "        vertical-align: top;\n",
       "    }\n",
       "\n",
       "    .dataframe thead th {\n",
       "        text-align: right;\n",
       "    }\n",
       "</style>\n",
       "<table border=\"1\" class=\"dataframe\">\n",
       "  <thead>\n",
       "    <tr style=\"text-align: right;\">\n",
       "      <th></th>\n",
       "      <th>manufacturer</th>\n",
       "      <th>model</th>\n",
       "      <th>displ</th>\n",
       "      <th>year</th>\n",
       "      <th>cyl</th>\n",
       "      <th>trans</th>\n",
       "      <th>drv</th>\n",
       "      <th>cty</th>\n",
       "      <th>hwy</th>\n",
       "      <th>fl</th>\n",
       "      <th>category</th>\n",
       "      <th>total</th>\n",
       "      <th>mean</th>\n",
       "    </tr>\n",
       "  </thead>\n",
       "  <tbody>\n",
       "    <tr>\n",
       "      <th>221</th>\n",
       "      <td>volkswagen</td>\n",
       "      <td>new beetle</td>\n",
       "      <td>1.9</td>\n",
       "      <td>1999</td>\n",
       "      <td>4</td>\n",
       "      <td>manual(m5)</td>\n",
       "      <td>f</td>\n",
       "      <td>35</td>\n",
       "      <td>44</td>\n",
       "      <td>d</td>\n",
       "      <td>subcompact</td>\n",
       "      <td>79</td>\n",
       "      <td>39.5</td>\n",
       "    </tr>\n",
       "    <tr>\n",
       "      <th>212</th>\n",
       "      <td>volkswagen</td>\n",
       "      <td>jetta</td>\n",
       "      <td>1.9</td>\n",
       "      <td>1999</td>\n",
       "      <td>4</td>\n",
       "      <td>manual(m5)</td>\n",
       "      <td>f</td>\n",
       "      <td>33</td>\n",
       "      <td>44</td>\n",
       "      <td>d</td>\n",
       "      <td>compact</td>\n",
       "      <td>77</td>\n",
       "      <td>38.5</td>\n",
       "    </tr>\n",
       "    <tr>\n",
       "      <th>222</th>\n",
       "      <td>volkswagen</td>\n",
       "      <td>new beetle</td>\n",
       "      <td>1.9</td>\n",
       "      <td>1999</td>\n",
       "      <td>4</td>\n",
       "      <td>auto(l4)</td>\n",
       "      <td>f</td>\n",
       "      <td>29</td>\n",
       "      <td>41</td>\n",
       "      <td>d</td>\n",
       "      <td>subcompact</td>\n",
       "      <td>70</td>\n",
       "      <td>35.0</td>\n",
       "    </tr>\n",
       "  </tbody>\n",
       "</table>\n",
       "</div>"
      ],
      "text/plain": [
       "    manufacturer       model  displ  year  cyl       trans drv  cty  hwy fl  \\\n",
       "221   volkswagen  new beetle    1.9  1999    4  manual(m5)   f   35   44  d   \n",
       "212   volkswagen       jetta    1.9  1999    4  manual(m5)   f   33   44  d   \n",
       "222   volkswagen  new beetle    1.9  1999    4    auto(l4)   f   29   41  d   \n",
       "\n",
       "       category  total  mean  \n",
       "221  subcompact     79  39.5  \n",
       "212     compact     77  38.5  \n",
       "222  subcompact     70  35.0  "
      ]
     },
     "execution_count": 31,
     "metadata": {},
     "output_type": "execute_result"
    }
   ],
   "source": [
    "# mean 기준 내림차순 정렬, 상위 3행 출력\n",
    "mpg_new.sort_values('mean', ascending = False).head(3)  "
   ]
  },
  {
   "cell_type": "markdown",
   "id": "e2f70c38",
   "metadata": {},
   "source": [
    "> (편집) 맨 오른쪽 total, mean 컬럼 보이도록 중간 열 생략\n",
    "\n",
    "#### Q4"
   ]
  },
  {
   "cell_type": "code",
   "execution_count": 32,
   "id": "6524959b",
   "metadata": {},
   "outputs": [
    {
     "data": {
      "text/html": [
       "<div>\n",
       "<style scoped>\n",
       "    .dataframe tbody tr th:only-of-type {\n",
       "        vertical-align: middle;\n",
       "    }\n",
       "\n",
       "    .dataframe tbody tr th {\n",
       "        vertical-align: top;\n",
       "    }\n",
       "\n",
       "    .dataframe thead th {\n",
       "        text-align: right;\n",
       "    }\n",
       "</style>\n",
       "<table border=\"1\" class=\"dataframe\">\n",
       "  <thead>\n",
       "    <tr style=\"text-align: right;\">\n",
       "      <th></th>\n",
       "      <th>manufacturer</th>\n",
       "      <th>model</th>\n",
       "      <th>displ</th>\n",
       "      <th>year</th>\n",
       "      <th>cyl</th>\n",
       "      <th>trans</th>\n",
       "      <th>drv</th>\n",
       "      <th>cty</th>\n",
       "      <th>hwy</th>\n",
       "      <th>fl</th>\n",
       "      <th>category</th>\n",
       "      <th>total</th>\n",
       "      <th>mean</th>\n",
       "    </tr>\n",
       "  </thead>\n",
       "  <tbody>\n",
       "    <tr>\n",
       "      <th>221</th>\n",
       "      <td>volkswagen</td>\n",
       "      <td>new beetle</td>\n",
       "      <td>1.9</td>\n",
       "      <td>1999</td>\n",
       "      <td>4</td>\n",
       "      <td>manual(m5)</td>\n",
       "      <td>f</td>\n",
       "      <td>35</td>\n",
       "      <td>44</td>\n",
       "      <td>d</td>\n",
       "      <td>subcompact</td>\n",
       "      <td>79</td>\n",
       "      <td>39.5</td>\n",
       "    </tr>\n",
       "    <tr>\n",
       "      <th>212</th>\n",
       "      <td>volkswagen</td>\n",
       "      <td>jetta</td>\n",
       "      <td>1.9</td>\n",
       "      <td>1999</td>\n",
       "      <td>4</td>\n",
       "      <td>manual(m5)</td>\n",
       "      <td>f</td>\n",
       "      <td>33</td>\n",
       "      <td>44</td>\n",
       "      <td>d</td>\n",
       "      <td>compact</td>\n",
       "      <td>77</td>\n",
       "      <td>38.5</td>\n",
       "    </tr>\n",
       "    <tr>\n",
       "      <th>222</th>\n",
       "      <td>volkswagen</td>\n",
       "      <td>new beetle</td>\n",
       "      <td>1.9</td>\n",
       "      <td>1999</td>\n",
       "      <td>4</td>\n",
       "      <td>auto(l4)</td>\n",
       "      <td>f</td>\n",
       "      <td>29</td>\n",
       "      <td>41</td>\n",
       "      <td>d</td>\n",
       "      <td>subcompact</td>\n",
       "      <td>70</td>\n",
       "      <td>35.0</td>\n",
       "    </tr>\n",
       "  </tbody>\n",
       "</table>\n",
       "</div>"
      ],
      "text/plain": [
       "    manufacturer       model  displ  year  cyl       trans drv  cty  hwy fl  \\\n",
       "221   volkswagen  new beetle    1.9  1999    4  manual(m5)   f   35   44  d   \n",
       "212   volkswagen       jetta    1.9  1999    4  manual(m5)   f   33   44  d   \n",
       "222   volkswagen  new beetle    1.9  1999    4    auto(l4)   f   29   41  d   \n",
       "\n",
       "       category  total  mean  \n",
       "221  subcompact     79  39.5  \n",
       "212     compact     77  38.5  \n",
       "222  subcompact     70  35.0  "
      ]
     },
     "execution_count": 32,
     "metadata": {},
     "output_type": "execute_result"
    }
   ],
   "source": [
    "# 합산 연비 변수 추가\n",
    "# 평균 연비 변수 추가\n",
    "# 내림차순 정렬\n",
    "# 상위 3행 출력\n",
    "mpg.assign(total = lambda x: x['cty'] + x['hwy'],\n",
    "           mean  = lambda x: x['total'] / 2) \\\n",
    "   .sort_values('mean', ascending = False) \\\n",
    "   .head(3)"
   ]
  },
  {
   "cell_type": "markdown",
   "id": "3aff4cf4",
   "metadata": {},
   "source": [
    "### 166쪽 혼자서 해보기\n",
    "\n",
    "#### Q1"
   ]
  },
  {
   "cell_type": "code",
   "execution_count": 33,
   "id": "ad47d8d6-5a75-43f9-b59f-1835dfeae841",
   "metadata": {
    "eval": false,
    "lines_to_next_cell": 2
   },
   "outputs": [],
   "source": [
    "# mpg 데이터 불러오기\n",
    "mpg = pd.read_csv('mpg.csv')"
   ]
  },
  {
   "cell_type": "code",
   "execution_count": 34,
   "id": "7281d6e2-30ad-4d32-9975-06c0bf22ca32",
   "metadata": {
    "eval": false,
    "lines_to_next_cell": 2
   },
   "outputs": [
    {
     "data": {
      "text/html": [
       "<div>\n",
       "<style scoped>\n",
       "    .dataframe tbody tr th:only-of-type {\n",
       "        vertical-align: middle;\n",
       "    }\n",
       "\n",
       "    .dataframe tbody tr th {\n",
       "        vertical-align: top;\n",
       "    }\n",
       "\n",
       "    .dataframe thead th {\n",
       "        text-align: right;\n",
       "    }\n",
       "</style>\n",
       "<table border=\"1\" class=\"dataframe\">\n",
       "  <thead>\n",
       "    <tr style=\"text-align: right;\">\n",
       "      <th></th>\n",
       "      <th>mean_cty</th>\n",
       "    </tr>\n",
       "    <tr>\n",
       "      <th>category</th>\n",
       "      <th></th>\n",
       "    </tr>\n",
       "  </thead>\n",
       "  <tbody>\n",
       "    <tr>\n",
       "      <th>2seater</th>\n",
       "      <td>15.400000</td>\n",
       "    </tr>\n",
       "    <tr>\n",
       "      <th>compact</th>\n",
       "      <td>20.127660</td>\n",
       "    </tr>\n",
       "    <tr>\n",
       "      <th>midsize</th>\n",
       "      <td>18.756098</td>\n",
       "    </tr>\n",
       "    <tr>\n",
       "      <th>minivan</th>\n",
       "      <td>15.818182</td>\n",
       "    </tr>\n",
       "    <tr>\n",
       "      <th>pickup</th>\n",
       "      <td>13.000000</td>\n",
       "    </tr>\n",
       "    <tr>\n",
       "      <th>subcompact</th>\n",
       "      <td>20.371429</td>\n",
       "    </tr>\n",
       "    <tr>\n",
       "      <th>suv</th>\n",
       "      <td>13.500000</td>\n",
       "    </tr>\n",
       "  </tbody>\n",
       "</table>\n",
       "</div>"
      ],
      "text/plain": [
       "             mean_cty\n",
       "category             \n",
       "2seater     15.400000\n",
       "compact     20.127660\n",
       "midsize     18.756098\n",
       "minivan     15.818182\n",
       "pickup      13.000000\n",
       "subcompact  20.371429\n",
       "suv         13.500000"
      ]
     },
     "execution_count": 34,
     "metadata": {},
     "output_type": "execute_result"
    }
   ],
   "source": [
    "# category별 분리\n",
    "# cty 평균 구하기\n",
    "mpg.groupby('category') \\\n",
    "   .agg(mean_cty = ('cty', 'mean'))"
   ]
  },
  {
   "cell_type": "markdown",
   "id": "fd1336a8",
   "metadata": {},
   "source": [
    "#### Q2"
   ]
  },
  {
   "cell_type": "code",
   "execution_count": 35,
   "id": "02828620",
   "metadata": {},
   "outputs": [
    {
     "data": {
      "text/html": [
       "<div>\n",
       "<style scoped>\n",
       "    .dataframe tbody tr th:only-of-type {\n",
       "        vertical-align: middle;\n",
       "    }\n",
       "\n",
       "    .dataframe tbody tr th {\n",
       "        vertical-align: top;\n",
       "    }\n",
       "\n",
       "    .dataframe thead th {\n",
       "        text-align: right;\n",
       "    }\n",
       "</style>\n",
       "<table border=\"1\" class=\"dataframe\">\n",
       "  <thead>\n",
       "    <tr style=\"text-align: right;\">\n",
       "      <th></th>\n",
       "      <th>mean_cty</th>\n",
       "    </tr>\n",
       "    <tr>\n",
       "      <th>category</th>\n",
       "      <th></th>\n",
       "    </tr>\n",
       "  </thead>\n",
       "  <tbody>\n",
       "    <tr>\n",
       "      <th>subcompact</th>\n",
       "      <td>20.371429</td>\n",
       "    </tr>\n",
       "    <tr>\n",
       "      <th>compact</th>\n",
       "      <td>20.127660</td>\n",
       "    </tr>\n",
       "    <tr>\n",
       "      <th>midsize</th>\n",
       "      <td>18.756098</td>\n",
       "    </tr>\n",
       "    <tr>\n",
       "      <th>minivan</th>\n",
       "      <td>15.818182</td>\n",
       "    </tr>\n",
       "    <tr>\n",
       "      <th>2seater</th>\n",
       "      <td>15.400000</td>\n",
       "    </tr>\n",
       "    <tr>\n",
       "      <th>suv</th>\n",
       "      <td>13.500000</td>\n",
       "    </tr>\n",
       "    <tr>\n",
       "      <th>pickup</th>\n",
       "      <td>13.000000</td>\n",
       "    </tr>\n",
       "  </tbody>\n",
       "</table>\n",
       "</div>"
      ],
      "text/plain": [
       "             mean_cty\n",
       "category             \n",
       "subcompact  20.371429\n",
       "compact     20.127660\n",
       "midsize     18.756098\n",
       "minivan     15.818182\n",
       "2seater     15.400000\n",
       "suv         13.500000\n",
       "pickup      13.000000"
      ]
     },
     "execution_count": 35,
     "metadata": {},
     "output_type": "execute_result"
    }
   ],
   "source": [
    "# category별 분리\n",
    "# cty 평균 구하기\n",
    "# 내림차순 정렬\n",
    "mpg.groupby('category') \\\n",
    "   .agg(mean_cty = ('cty', 'mean')) \\\n",
    "   .sort_values('mean_cty', ascending = False)"
   ]
  },
  {
   "cell_type": "markdown",
   "id": "4b613481",
   "metadata": {},
   "source": [
    "#### Q3"
   ]
  },
  {
   "cell_type": "code",
   "execution_count": 36,
   "id": "4da1e422",
   "metadata": {},
   "outputs": [
    {
     "data": {
      "text/html": [
       "<div>\n",
       "<style scoped>\n",
       "    .dataframe tbody tr th:only-of-type {\n",
       "        vertical-align: middle;\n",
       "    }\n",
       "\n",
       "    .dataframe tbody tr th {\n",
       "        vertical-align: top;\n",
       "    }\n",
       "\n",
       "    .dataframe thead th {\n",
       "        text-align: right;\n",
       "    }\n",
       "</style>\n",
       "<table border=\"1\" class=\"dataframe\">\n",
       "  <thead>\n",
       "    <tr style=\"text-align: right;\">\n",
       "      <th></th>\n",
       "      <th>mean_hwy</th>\n",
       "    </tr>\n",
       "    <tr>\n",
       "      <th>manufacturer</th>\n",
       "      <th></th>\n",
       "    </tr>\n",
       "  </thead>\n",
       "  <tbody>\n",
       "    <tr>\n",
       "      <th>honda</th>\n",
       "      <td>32.555556</td>\n",
       "    </tr>\n",
       "    <tr>\n",
       "      <th>volkswagen</th>\n",
       "      <td>29.222222</td>\n",
       "    </tr>\n",
       "    <tr>\n",
       "      <th>hyundai</th>\n",
       "      <td>26.857143</td>\n",
       "    </tr>\n",
       "  </tbody>\n",
       "</table>\n",
       "</div>"
      ],
      "text/plain": [
       "               mean_hwy\n",
       "manufacturer           \n",
       "honda         32.555556\n",
       "volkswagen    29.222222\n",
       "hyundai       26.857143"
      ]
     },
     "execution_count": 36,
     "metadata": {},
     "output_type": "execute_result"
    }
   ],
   "source": [
    "# manufacturer별 분리\n",
    "# hwp 평균 구하기\n",
    "# 내림차순 정렬\n",
    "# 상위 3행 출력\n",
    "mpg.groupby('manufacturer') \\\n",
    "   .agg(mean_hwy = ('hwy', 'mean')) \\\n",
    "   .sort_values('mean_hwy', ascending = False) \\\n",
    "   .head(3)"
   ]
  },
  {
   "cell_type": "markdown",
   "id": "0555cebb",
   "metadata": {},
   "source": [
    "#### Q4"
   ]
  },
  {
   "cell_type": "code",
   "execution_count": 37,
   "id": "9db4f87d",
   "metadata": {},
   "outputs": [
    {
     "data": {
      "text/html": [
       "<div>\n",
       "<style scoped>\n",
       "    .dataframe tbody tr th:only-of-type {\n",
       "        vertical-align: middle;\n",
       "    }\n",
       "\n",
       "    .dataframe tbody tr th {\n",
       "        vertical-align: top;\n",
       "    }\n",
       "\n",
       "    .dataframe thead th {\n",
       "        text-align: right;\n",
       "    }\n",
       "</style>\n",
       "<table border=\"1\" class=\"dataframe\">\n",
       "  <thead>\n",
       "    <tr style=\"text-align: right;\">\n",
       "      <th></th>\n",
       "      <th>n</th>\n",
       "    </tr>\n",
       "    <tr>\n",
       "      <th>manufacturer</th>\n",
       "      <th></th>\n",
       "    </tr>\n",
       "  </thead>\n",
       "  <tbody>\n",
       "    <tr>\n",
       "      <th>audi</th>\n",
       "      <td>15</td>\n",
       "    </tr>\n",
       "    <tr>\n",
       "      <th>volkswagen</th>\n",
       "      <td>14</td>\n",
       "    </tr>\n",
       "    <tr>\n",
       "      <th>toyota</th>\n",
       "      <td>12</td>\n",
       "    </tr>\n",
       "    <tr>\n",
       "      <th>subaru</th>\n",
       "      <td>4</td>\n",
       "    </tr>\n",
       "    <tr>\n",
       "      <th>nissan</th>\n",
       "      <td>2</td>\n",
       "    </tr>\n",
       "  </tbody>\n",
       "</table>\n",
       "</div>"
      ],
      "text/plain": [
       "               n\n",
       "manufacturer    \n",
       "audi          15\n",
       "volkswagen    14\n",
       "toyota        12\n",
       "subaru         4\n",
       "nissan         2"
      ]
     },
     "execution_count": 37,
     "metadata": {},
     "output_type": "execute_result"
    }
   ],
   "source": [
    "## 방법1\n",
    "\n",
    "# compact 추출\n",
    "# manufacturer별 분리\n",
    "# 빈도 구하기\n",
    "# 내림차순 정렬\n",
    "mpg.query('category == \"compact\"') \\\n",
    "   .groupby('manufacturer') \\\n",
    "   .agg(n = ('manufacturer', 'count')) \\\n",
    "   .sort_values('n', ascending = False)"
   ]
  },
  {
   "cell_type": "code",
   "execution_count": 38,
   "id": "e3d2b971",
   "metadata": {},
   "outputs": [
    {
     "data": {
      "text/plain": [
       "manufacturer\n",
       "audi          15\n",
       "volkswagen    14\n",
       "toyota        12\n",
       "subaru         4\n",
       "nissan         2\n",
       "Name: count, dtype: int64"
      ]
     },
     "execution_count": 38,
     "metadata": {},
     "output_type": "execute_result"
    }
   ],
   "source": [
    "## 방법2\n",
    "\n",
    "# compact 추출\n",
    "# manufacturer별 빈도 구하기\n",
    "mpg.query('category == \"compact\"') \\\n",
    "   .value_counts('manufacturer')"
   ]
  },
  {
   "cell_type": "markdown",
   "id": "b145dad4-508c-46c7-8fc5-b403ef78998a",
   "metadata": {},
   "source": [
    "### 173쪽 혼자서 해보기 "
   ]
  },
  {
   "cell_type": "code",
   "execution_count": 39,
   "id": "7de99231",
   "metadata": {
    "echo": false,
    "lines_to_next_cell": 0
   },
   "outputs": [],
   "source": [
    "fuel = pd.DataFrame({'fl'       : ['c', 'd', 'e', 'p', 'r'],\n",
    "                     'price_fl' : [2.35, 2.38, 2.11, 2.76, 2.22]})"
   ]
  },
  {
   "cell_type": "markdown",
   "id": "8ef5e08d-9ba2-40c8-b7f4-b25c318ca06f",
   "metadata": {},
   "source": [
    "#### Q1"
   ]
  },
  {
   "cell_type": "code",
   "execution_count": 40,
   "id": "5a7c2587",
   "metadata": {
    "eval": false
   },
   "outputs": [],
   "source": [
    "# mpg 데이터 불러오기\n",
    "mpg = pd.read_csv('mpg.csv')\n",
    "\n",
    "# mpg에 연료 가격 변수 추가\n",
    "mpg = pd.merge(mpg, fuel, how = 'left', on = 'fl')"
   ]
  },
  {
   "cell_type": "markdown",
   "id": "4087e5b3",
   "metadata": {},
   "source": [
    "#### Q2"
   ]
  },
  {
   "cell_type": "code",
   "execution_count": 41,
   "id": "f4593966",
   "metadata": {
    "lines_to_next_cell": 2
   },
   "outputs": [
    {
     "data": {
      "text/html": [
       "<div>\n",
       "<style scoped>\n",
       "    .dataframe tbody tr th:only-of-type {\n",
       "        vertical-align: middle;\n",
       "    }\n",
       "\n",
       "    .dataframe tbody tr th {\n",
       "        vertical-align: top;\n",
       "    }\n",
       "\n",
       "    .dataframe thead th {\n",
       "        text-align: right;\n",
       "    }\n",
       "</style>\n",
       "<table border=\"1\" class=\"dataframe\">\n",
       "  <thead>\n",
       "    <tr style=\"text-align: right;\">\n",
       "      <th></th>\n",
       "      <th>model</th>\n",
       "      <th>fl</th>\n",
       "      <th>price_fl</th>\n",
       "    </tr>\n",
       "  </thead>\n",
       "  <tbody>\n",
       "    <tr>\n",
       "      <th>0</th>\n",
       "      <td>a4</td>\n",
       "      <td>p</td>\n",
       "      <td>2.76</td>\n",
       "    </tr>\n",
       "    <tr>\n",
       "      <th>1</th>\n",
       "      <td>a4</td>\n",
       "      <td>p</td>\n",
       "      <td>2.76</td>\n",
       "    </tr>\n",
       "    <tr>\n",
       "      <th>2</th>\n",
       "      <td>a4</td>\n",
       "      <td>p</td>\n",
       "      <td>2.76</td>\n",
       "    </tr>\n",
       "    <tr>\n",
       "      <th>3</th>\n",
       "      <td>a4</td>\n",
       "      <td>p</td>\n",
       "      <td>2.76</td>\n",
       "    </tr>\n",
       "    <tr>\n",
       "      <th>4</th>\n",
       "      <td>a4</td>\n",
       "      <td>p</td>\n",
       "      <td>2.76</td>\n",
       "    </tr>\n",
       "  </tbody>\n",
       "</table>\n",
       "</div>"
      ],
      "text/plain": [
       "  model fl  price_fl\n",
       "0    a4  p      2.76\n",
       "1    a4  p      2.76\n",
       "2    a4  p      2.76\n",
       "3    a4  p      2.76\n",
       "4    a4  p      2.76"
      ]
     },
     "execution_count": 41,
     "metadata": {},
     "output_type": "execute_result"
    }
   ],
   "source": [
    "# 변수 추출, 앞부분 일부 출력\n",
    "mpg[['model', 'fl', 'price_fl']].head()             "
   ]
  },
  {
   "cell_type": "markdown",
   "id": "cf9c1d83",
   "metadata": {},
   "source": [
    "### 176쪽 분석 도전\n",
    "\n",
    "#### 문제 1"
   ]
  },
  {
   "cell_type": "code",
   "execution_count": 42,
   "id": "6feb47ac",
   "metadata": {
    "eval": false
   },
   "outputs": [],
   "source": [
    "# midwest 데이터 불러오기\n",
    "midwest = pd.read_csv('midwest.csv')"
   ]
  },
  {
   "cell_type": "code",
   "execution_count": 43,
   "id": "2123bd28",
   "metadata": {},
   "outputs": [],
   "source": [
    "# midwest에 백분율 변수 추가\n",
    "midwest['ratio'] = (midwest['poptotal'] - midwest['popadults']) \\\n",
    "                  / midwest['poptotal'] * 100"
   ]
  },
  {
   "cell_type": "markdown",
   "id": "fc176831",
   "metadata": {},
   "source": [
    "#### 문제 2"
   ]
  },
  {
   "cell_type": "code",
   "execution_count": 44,
   "id": "21d40c2f",
   "metadata": {
    "lines_to_next_cell": 2
   },
   "outputs": [
    {
     "data": {
      "text/html": [
       "<div>\n",
       "<style scoped>\n",
       "    .dataframe tbody tr th:only-of-type {\n",
       "        vertical-align: middle;\n",
       "    }\n",
       "\n",
       "    .dataframe tbody tr th {\n",
       "        vertical-align: top;\n",
       "    }\n",
       "\n",
       "    .dataframe thead th {\n",
       "        text-align: right;\n",
       "    }\n",
       "</style>\n",
       "<table border=\"1\" class=\"dataframe\">\n",
       "  <thead>\n",
       "    <tr style=\"text-align: right;\">\n",
       "      <th></th>\n",
       "      <th>county</th>\n",
       "      <th>ratio</th>\n",
       "    </tr>\n",
       "  </thead>\n",
       "  <tbody>\n",
       "    <tr>\n",
       "      <th>230</th>\n",
       "      <td>ISABELLA</td>\n",
       "      <td>51.501172</td>\n",
       "    </tr>\n",
       "    <tr>\n",
       "      <th>404</th>\n",
       "      <td>MENOMINEE</td>\n",
       "      <td>50.591260</td>\n",
       "    </tr>\n",
       "    <tr>\n",
       "      <th>281</th>\n",
       "      <td>ATHENS</td>\n",
       "      <td>49.320727</td>\n",
       "    </tr>\n",
       "    <tr>\n",
       "      <th>247</th>\n",
       "      <td>MECOSTA</td>\n",
       "      <td>49.059183</td>\n",
       "    </tr>\n",
       "    <tr>\n",
       "      <th>154</th>\n",
       "      <td>MONROE</td>\n",
       "      <td>47.358182</td>\n",
       "    </tr>\n",
       "  </tbody>\n",
       "</table>\n",
       "</div>"
      ],
      "text/plain": [
       "        county      ratio\n",
       "230   ISABELLA  51.501172\n",
       "404  MENOMINEE  50.591260\n",
       "281     ATHENS  49.320727\n",
       "247    MECOSTA  49.059183\n",
       "154     MONROE  47.358182"
      ]
     },
     "execution_count": 44,
     "metadata": {},
     "output_type": "execute_result"
    }
   ],
   "source": [
    "# ratio 내림차순 정렬\n",
    "# 상위 5행 추출\n",
    "# 변수 추출\n",
    "midwest.sort_values('ratio', ascending = False) \\\n",
    "       .head() \\\n",
    "       [['county', 'ratio']]"
   ]
  },
  {
   "cell_type": "markdown",
   "id": "945a195f",
   "metadata": {},
   "source": [
    "#### 문제 3"
   ]
  },
  {
   "cell_type": "code",
   "execution_count": 45,
   "id": "25a94ebe",
   "metadata": {},
   "outputs": [],
   "source": [
    "# midwest에 grade 변수 추가\n",
    "midwest['grade'] = np.where(midwest['ratio'] >= 40, 'large',\n",
    "                   np.where(midwest['ratio'] >= 30, 'middle', 'small'))"
   ]
  },
  {
   "cell_type": "code",
   "execution_count": 46,
   "id": "7aa90dae",
   "metadata": {},
   "outputs": [
    {
     "data": {
      "text/html": [
       "<div>\n",
       "<style scoped>\n",
       "    .dataframe tbody tr th:only-of-type {\n",
       "        vertical-align: middle;\n",
       "    }\n",
       "\n",
       "    .dataframe tbody tr th {\n",
       "        vertical-align: top;\n",
       "    }\n",
       "\n",
       "    .dataframe thead th {\n",
       "        text-align: right;\n",
       "    }\n",
       "</style>\n",
       "<table border=\"1\" class=\"dataframe\">\n",
       "  <thead>\n",
       "    <tr style=\"text-align: right;\">\n",
       "      <th></th>\n",
       "      <th>n</th>\n",
       "    </tr>\n",
       "    <tr>\n",
       "      <th>grade</th>\n",
       "      <th></th>\n",
       "    </tr>\n",
       "  </thead>\n",
       "  <tbody>\n",
       "    <tr>\n",
       "      <th>large</th>\n",
       "      <td>32</td>\n",
       "    </tr>\n",
       "    <tr>\n",
       "      <th>middle</th>\n",
       "      <td>396</td>\n",
       "    </tr>\n",
       "    <tr>\n",
       "      <th>small</th>\n",
       "      <td>9</td>\n",
       "    </tr>\n",
       "  </tbody>\n",
       "</table>\n",
       "</div>"
      ],
      "text/plain": [
       "          n\n",
       "grade      \n",
       "large    32\n",
       "middle  396\n",
       "small     9"
      ]
     },
     "execution_count": 46,
     "metadata": {},
     "output_type": "execute_result"
    }
   ],
   "source": [
    "## 방법1\n",
    "\n",
    "# grade별 분리\n",
    "# grade 빈도 구하기\n",
    "midwest.groupby('grade') \\\n",
    "       .agg(n = ('grade', 'count'))"
   ]
  },
  {
   "cell_type": "code",
   "execution_count": 47,
   "id": "a7813d66",
   "metadata": {},
   "outputs": [
    {
     "data": {
      "text/plain": [
       "grade\n",
       "middle    396\n",
       "large      32\n",
       "small       9\n",
       "Name: count, dtype: int64"
      ]
     },
     "execution_count": 47,
     "metadata": {},
     "output_type": "execute_result"
    }
   ],
   "source": [
    "## 방법2\n",
    "midwest['grade'].value_counts()"
   ]
  },
  {
   "cell_type": "markdown",
   "id": "85e23102",
   "metadata": {},
   "source": [
    "#### 문제 4"
   ]
  },
  {
   "cell_type": "code",
   "execution_count": 48,
   "id": "85b552e3",
   "metadata": {},
   "outputs": [
    {
     "data": {
      "text/html": [
       "<div>\n",
       "<style scoped>\n",
       "    .dataframe tbody tr th:only-of-type {\n",
       "        vertical-align: middle;\n",
       "    }\n",
       "\n",
       "    .dataframe tbody tr th {\n",
       "        vertical-align: top;\n",
       "    }\n",
       "\n",
       "    .dataframe thead th {\n",
       "        text-align: right;\n",
       "    }\n",
       "</style>\n",
       "<table border=\"1\" class=\"dataframe\">\n",
       "  <thead>\n",
       "    <tr style=\"text-align: right;\">\n",
       "      <th></th>\n",
       "      <th>state</th>\n",
       "      <th>county</th>\n",
       "      <th>ratio_asian</th>\n",
       "    </tr>\n",
       "  </thead>\n",
       "  <tbody>\n",
       "    <tr>\n",
       "      <th>404</th>\n",
       "      <td>WI</td>\n",
       "      <td>MENOMINEE</td>\n",
       "      <td>0.000000</td>\n",
       "    </tr>\n",
       "    <tr>\n",
       "      <th>105</th>\n",
       "      <td>IN</td>\n",
       "      <td>BENTON</td>\n",
       "      <td>0.010592</td>\n",
       "    </tr>\n",
       "    <tr>\n",
       "      <th>109</th>\n",
       "      <td>IN</td>\n",
       "      <td>CARROLL</td>\n",
       "      <td>0.015950</td>\n",
       "    </tr>\n",
       "    <tr>\n",
       "      <th>358</th>\n",
       "      <td>OH</td>\n",
       "      <td>VINTON</td>\n",
       "      <td>0.027032</td>\n",
       "    </tr>\n",
       "    <tr>\n",
       "      <th>390</th>\n",
       "      <td>WI</td>\n",
       "      <td>IRON</td>\n",
       "      <td>0.032504</td>\n",
       "    </tr>\n",
       "    <tr>\n",
       "      <th>85</th>\n",
       "      <td>IL</td>\n",
       "      <td>SCOTT</td>\n",
       "      <td>0.053154</td>\n",
       "    </tr>\n",
       "    <tr>\n",
       "      <th>112</th>\n",
       "      <td>IN</td>\n",
       "      <td>CLAY</td>\n",
       "      <td>0.060716</td>\n",
       "    </tr>\n",
       "    <tr>\n",
       "      <th>261</th>\n",
       "      <td>MI</td>\n",
       "      <td>OSCODA</td>\n",
       "      <td>0.063759</td>\n",
       "    </tr>\n",
       "    <tr>\n",
       "      <th>340</th>\n",
       "      <td>OH</td>\n",
       "      <td>PERRY</td>\n",
       "      <td>0.066546</td>\n",
       "    </tr>\n",
       "    <tr>\n",
       "      <th>73</th>\n",
       "      <td>IL</td>\n",
       "      <td>PIATT</td>\n",
       "      <td>0.070749</td>\n",
       "    </tr>\n",
       "  </tbody>\n",
       "</table>\n",
       "</div>"
      ],
      "text/plain": [
       "    state     county  ratio_asian\n",
       "404    WI  MENOMINEE     0.000000\n",
       "105    IN     BENTON     0.010592\n",
       "109    IN    CARROLL     0.015950\n",
       "358    OH     VINTON     0.027032\n",
       "390    WI       IRON     0.032504\n",
       "85     IL      SCOTT     0.053154\n",
       "112    IN       CLAY     0.060716\n",
       "261    MI     OSCODA     0.063759\n",
       "340    OH      PERRY     0.066546\n",
       "73     IL      PIATT     0.070749"
      ]
     },
     "execution_count": 48,
     "metadata": {},
     "output_type": "execute_result"
    }
   ],
   "source": [
    "# 백분율 변수 추가\n",
    "# 내림차순 정렬\n",
    "# 상위 10행 출력\n",
    "# 변수 추출\n",
    "midwest.assign(ratio_asian = midwest['popasian'] / midwest['poptotal'] * 100) \\\n",
    "       .sort_values('ratio_asian') \\\n",
    "       .head(10) \\\n",
    "       [['state', 'county', 'ratio_asian']]"
   ]
  },
  {
   "cell_type": "markdown",
   "id": "ff9a3f72",
   "metadata": {},
   "source": [
    "### 185쪽 혼자서 해보기"
   ]
  },
  {
   "cell_type": "code",
   "execution_count": 49,
   "id": "563b30c1",
   "metadata": {
    "echo": false,
    "lines_to_next_cell": 2
   },
   "outputs": [],
   "source": [
    "mpg = pd.read_csv('mpg.csv')                       # mpg 데이터 불러오기\n",
    "mpg.loc[[64, 123, 130, 152, 211], 'hwy'] = np.nan  # NaN 할당하기"
   ]
  },
  {
   "cell_type": "markdown",
   "id": "57472ed5",
   "metadata": {},
   "source": [
    "#### Q1"
   ]
  },
  {
   "cell_type": "code",
   "execution_count": 50,
   "id": "4eaf8107",
   "metadata": {},
   "outputs": [
    {
     "data": {
      "text/plain": [
       "drv    0\n",
       "hwy    5\n",
       "dtype: int64"
      ]
     },
     "execution_count": 50,
     "metadata": {},
     "output_type": "execute_result"
    }
   ],
   "source": [
    "# 결측치 빈도 확인\n",
    "mpg[['drv', 'hwy']].isna().sum()  "
   ]
  },
  {
   "cell_type": "markdown",
   "id": "a2818b46",
   "metadata": {},
   "source": [
    "#### Q2"
   ]
  },
  {
   "cell_type": "code",
   "execution_count": 51,
   "id": "e1f4aa4e",
   "metadata": {},
   "outputs": [
    {
     "data": {
      "text/html": [
       "<div>\n",
       "<style scoped>\n",
       "    .dataframe tbody tr th:only-of-type {\n",
       "        vertical-align: middle;\n",
       "    }\n",
       "\n",
       "    .dataframe tbody tr th {\n",
       "        vertical-align: top;\n",
       "    }\n",
       "\n",
       "    .dataframe thead th {\n",
       "        text-align: right;\n",
       "    }\n",
       "</style>\n",
       "<table border=\"1\" class=\"dataframe\">\n",
       "  <thead>\n",
       "    <tr style=\"text-align: right;\">\n",
       "      <th></th>\n",
       "      <th>mean_hwy</th>\n",
       "    </tr>\n",
       "    <tr>\n",
       "      <th>drv</th>\n",
       "      <th></th>\n",
       "    </tr>\n",
       "  </thead>\n",
       "  <tbody>\n",
       "    <tr>\n",
       "      <th>4</th>\n",
       "      <td>19.242424</td>\n",
       "    </tr>\n",
       "    <tr>\n",
       "      <th>f</th>\n",
       "      <td>28.200000</td>\n",
       "    </tr>\n",
       "    <tr>\n",
       "      <th>r</th>\n",
       "      <td>21.000000</td>\n",
       "    </tr>\n",
       "  </tbody>\n",
       "</table>\n",
       "</div>"
      ],
      "text/plain": [
       "      mean_hwy\n",
       "drv           \n",
       "4    19.242424\n",
       "f    28.200000\n",
       "r    21.000000"
      ]
     },
     "execution_count": 51,
     "metadata": {},
     "output_type": "execute_result"
    }
   ],
   "source": [
    "# hwy 결측치 제거\n",
    "# drv별 분리\n",
    "# hwy 평균 구하기\n",
    "mpg.dropna(subset = 'hwy') \\\n",
    "   .groupby('drv') \\\n",
    "   .agg(mean_hwy = ('hwy', 'mean'))"
   ]
  },
  {
   "cell_type": "markdown",
   "id": "eb8b7029",
   "metadata": {},
   "source": [
    "### 194쪽 혼자서 해보기"
   ]
  },
  {
   "cell_type": "code",
   "execution_count": 52,
   "id": "44eadda8",
   "metadata": {
    "echo": false,
    "lines_to_next_cell": 2
   },
   "outputs": [],
   "source": [
    "mpg = pd.read_csv('mpg.csv')                         # mpg 데이터 불러오기\n",
    "mpg.loc[[9, 13, 57, 92], 'drv'] = 'k'                # drv 이상치 할당\n",
    "mpg.loc[[28, 42, 128, 202], 'cty'] = [3, 4, 39, 42]  # cty 이상치 할당"
   ]
  },
  {
   "cell_type": "markdown",
   "id": "6e62a364",
   "metadata": {},
   "source": [
    "#### Q1"
   ]
  },
  {
   "cell_type": "code",
   "execution_count": 53,
   "id": "808b42a8",
   "metadata": {},
   "outputs": [
    {
     "data": {
      "text/plain": [
       "drv\n",
       "4    100\n",
       "f    106\n",
       "k      4\n",
       "r     24\n",
       "Name: count, dtype: int64"
      ]
     },
     "execution_count": 53,
     "metadata": {},
     "output_type": "execute_result"
    }
   ],
   "source": [
    "# 이상치 확인\n",
    "mpg['drv'].value_counts().sort_index()"
   ]
  },
  {
   "cell_type": "code",
   "execution_count": 54,
   "id": "b5be1105",
   "metadata": {},
   "outputs": [],
   "source": [
    "# drv가 4, f, r이면 기존 값 유지, 그 외 NaN 부여\n",
    "mpg['drv'] = np.where(mpg['drv'].isin(['4', 'f', 'r']), mpg['drv'], np.nan)"
   ]
  },
  {
   "cell_type": "code",
   "execution_count": 55,
   "id": "7e853315",
   "metadata": {},
   "outputs": [
    {
     "data": {
      "text/plain": [
       "drv\n",
       "4    100\n",
       "f    106\n",
       "r     24\n",
       "Name: count, dtype: int64"
      ]
     },
     "execution_count": 55,
     "metadata": {},
     "output_type": "execute_result"
    }
   ],
   "source": [
    "# 이상치 확인\n",
    "mpg['drv'].value_counts().sort_index()"
   ]
  },
  {
   "cell_type": "markdown",
   "id": "a2d8ff16",
   "metadata": {},
   "source": [
    "#### Q2"
   ]
  },
  {
   "cell_type": "code",
   "execution_count": 56,
   "id": "cca70d54",
   "metadata": {
    "eval": false
   },
   "outputs": [
    {
     "data": {
      "text/plain": [
       "<Axes: ylabel='cty'>"
      ]
     },
     "execution_count": 56,
     "metadata": {},
     "output_type": "execute_result"
    },
    {
     "data": {
      "image/png": "[encoded data removed]",
      "text/plain": [
       "<Figure size 640x480 with 1 Axes>"
      ]
     },
     "metadata": {
      "image/png": {
       "height": 394,
       "width": 562
      }
     },
     "output_type": "display_data"
    }
   ],
   "source": [
    "# 상자 그림 만들기\n",
    "sns.boxplot(data = mpg, y = 'cty')"
   ]
  },
  {
   "cell_type": "code",
   "execution_count": 57,
   "id": "c8140174",
   "metadata": {},
   "outputs": [],
   "source": [
    "pct25 = mpg['cty'].quantile(.25)  # 1사분위수\n",
    "pct75 = mpg['cty'].quantile(.75)  # 3사분위수\n",
    "iqr = pct75 - pct25               # IQR"
   ]
  },
  {
   "cell_type": "code",
   "execution_count": 58,
   "id": "e82986c9",
   "metadata": {
    "lines_to_next_cell": 2
   },
   "outputs": [
    {
     "data": {
      "text/plain": [
       "6.5"
      ]
     },
     "execution_count": 58,
     "metadata": {},
     "output_type": "execute_result"
    }
   ],
   "source": [
    "pct25 - 1.5 * iqr  # 하한"
   ]
  },
  {
   "cell_type": "code",
   "execution_count": 59,
   "id": "1162fad9",
   "metadata": {},
   "outputs": [
    {
     "data": {
      "text/plain": [
       "26.5"
      ]
     },
     "execution_count": 59,
     "metadata": {},
     "output_type": "execute_result"
    }
   ],
   "source": [
    "pct75 + 1.5 * iqr  # 상한"
   ]
  },
  {
   "cell_type": "code",
   "execution_count": 60,
   "id": "3d1ee430",
   "metadata": {},
   "outputs": [],
   "source": [
    "# 6.5 ~ 26.5 벗어나면 NaN 부여\n",
    "mpg['cty'] = np.where((mpg['cty'] < 6.5) | (mpg['cty'] > 26.5), np.nan, mpg['cty'])"
   ]
  },
  {
   "cell_type": "code",
   "execution_count": 61,
   "id": "ea1f59c0",
   "metadata": {
    "eval": false
   },
   "outputs": [
    {
     "data": {
      "text/plain": [
       "<Axes: ylabel='cty'>"
      ]
     },
     "execution_count": 61,
     "metadata": {},
     "output_type": "execute_result"
    },
    {
     "data": {
      "image/png": "[encoded data removed]",
      "text/plain": [
       "<Figure size 640x480 with 1 Axes>"
      ]
     },
     "metadata": {
      "image/png": {
       "height": 394,
       "width": 576
      }
     },
     "output_type": "display_data"
    }
   ],
   "source": [
    "# 상자 그림 만들기\n",
    "sns.boxplot(data = mpg, y = 'cty')"
   ]
  },
  {
   "cell_type": "markdown",
   "id": "07251c80",
   "metadata": {},
   "source": [
    "#### Q3"
   ]
  },
  {
   "cell_type": "code",
   "execution_count": 62,
   "id": "7421a2ae",
   "metadata": {
    "lines_to_next_cell": 2
   },
   "outputs": [
    {
     "data": {
      "text/html": [
       "<div>\n",
       "<style scoped>\n",
       "    .dataframe tbody tr th:only-of-type {\n",
       "        vertical-align: middle;\n",
       "    }\n",
       "\n",
       "    .dataframe tbody tr th {\n",
       "        vertical-align: top;\n",
       "    }\n",
       "\n",
       "    .dataframe thead th {\n",
       "        text-align: right;\n",
       "    }\n",
       "</style>\n",
       "<table border=\"1\" class=\"dataframe\">\n",
       "  <thead>\n",
       "    <tr style=\"text-align: right;\">\n",
       "      <th></th>\n",
       "      <th>mean_cty</th>\n",
       "    </tr>\n",
       "    <tr>\n",
       "      <th>drv</th>\n",
       "      <th></th>\n",
       "    </tr>\n",
       "  </thead>\n",
       "  <tbody>\n",
       "    <tr>\n",
       "      <th>4</th>\n",
       "      <td>14.247423</td>\n",
       "    </tr>\n",
       "    <tr>\n",
       "      <th>f</th>\n",
       "      <td>19.470000</td>\n",
       "    </tr>\n",
       "    <tr>\n",
       "      <th>r</th>\n",
       "      <td>13.958333</td>\n",
       "    </tr>\n",
       "  </tbody>\n",
       "</table>\n",
       "</div>"
      ],
      "text/plain": [
       "      mean_cty\n",
       "drv           \n",
       "4    14.247423\n",
       "f    19.470000\n",
       "r    13.958333"
      ]
     },
     "execution_count": 62,
     "metadata": {},
     "output_type": "execute_result"
    }
   ],
   "source": [
    "# drv, cty 결측치 제거\n",
    "# drv별 분리\n",
    "# cty 평균 구하기\n",
    "mpg.dropna(subset = ['drv', 'cty']) \\\n",
    "   .groupby('drv') \\\n",
    "   .agg(mean_cty = ('cty', 'mean'))"
   ]
  },
  {
   "cell_type": "markdown",
   "id": "1e5007c8",
   "metadata": {},
   "source": [
    "### 204쪽 혼자서 해보기"
   ]
  },
  {
   "cell_type": "markdown",
   "id": "74b88b7f",
   "metadata": {},
   "source": [
    "#### Q1"
   ]
  },
  {
   "cell_type": "code",
   "execution_count": 63,
   "id": "d8c7e1c6",
   "metadata": {
    "eval": false
   },
   "outputs": [
    {
     "data": {
      "text/plain": [
       "<Axes: xlabel='cty', ylabel='hwy'>"
      ]
     },
     "execution_count": 63,
     "metadata": {},
     "output_type": "execute_result"
    },
    {
     "data": {
      "image/png": "[encoded data removed]",
      "text/plain": [
       "<Figure size 640x480 with 1 Axes>"
      ]
     },
     "metadata": {
      "image/png": {
       "height": 432,
       "width": 562
      }
     },
     "output_type": "display_data"
    }
   ],
   "source": [
    "mpg = pd.read_csv('mpg.csv')                       # mpg 데이터 불러오기\n",
    "sns.scatterplot(data = mpg, x = 'cty', y = 'hwy')  # 산점도 만들기"
   ]
  },
  {
   "cell_type": "markdown",
   "id": "63f120e0",
   "metadata": {},
   "source": [
    "#### Q2"
   ]
  },
  {
   "cell_type": "code",
   "execution_count": 64,
   "id": "da32dafd",
   "metadata": {
    "eval": false,
    "lines_to_next_cell": 2
   },
   "outputs": [
    {
     "data": {
      "text/plain": [
       "[(0.0, 500000.0), (0.0, 10000.0)]"
      ]
     },
     "execution_count": 64,
     "metadata": {},
     "output_type": "execute_result"
    },
    {
     "data": {
      "image/png": "[encoded data removed]",
      "text/plain": [
       "<Figure size 640x480 with 1 Axes>"
      ]
     },
     "metadata": {
      "image/png": {
       "height": 438,
       "width": 615
      }
     },
     "output_type": "display_data"
    }
   ],
   "source": [
    "# midwest 데이터 불러오기\n",
    "midwest = pd.read_csv('midwest.csv')\n",
    "\n",
    "# 산점도 만들기, 축 범위 제한하기\n",
    "sns.scatterplot(data = midwest, x = 'poptotal', y = 'popasian') \\\n",
    "   .set(xlim = (0, 500000), ylim = (0, 10000))"
   ]
  },
  {
   "cell_type": "markdown",
   "id": "f30b9f65",
   "metadata": {},
   "source": [
    "### 211쪽 혼자서 해보기\n",
    "\n",
    "#### Q1"
   ]
  },
  {
   "cell_type": "code",
   "execution_count": 65,
   "id": "3f8348aa-1aee-4276-a5a3-438366e6dd9a",
   "metadata": {
    "eval": false,
    "lines_to_next_cell": 0
   },
   "outputs": [],
   "source": [
    "# mpg 데이터 불러오기\n",
    "mpg = pd.read_csv('mpg.csv')"
   ]
  },
  {
   "cell_type": "code",
   "execution_count": 66,
   "id": "f7efb085-032d-4c72-9fa1-6b47fd1d2cbd",
   "metadata": {
    "eval": false,
    "lines_to_next_cell": 0
   },
   "outputs": [
    {
     "data": {
      "text/html": [
       "<div>\n",
       "<style scoped>\n",
       "    .dataframe tbody tr th:only-of-type {\n",
       "        vertical-align: middle;\n",
       "    }\n",
       "\n",
       "    .dataframe tbody tr th {\n",
       "        vertical-align: top;\n",
       "    }\n",
       "\n",
       "    .dataframe thead th {\n",
       "        text-align: right;\n",
       "    }\n",
       "</style>\n",
       "<table border=\"1\" class=\"dataframe\">\n",
       "  <thead>\n",
       "    <tr style=\"text-align: right;\">\n",
       "      <th></th>\n",
       "      <th>manufacturer</th>\n",
       "      <th>mean_cty</th>\n",
       "    </tr>\n",
       "  </thead>\n",
       "  <tbody>\n",
       "    <tr>\n",
       "      <th>8</th>\n",
       "      <td>subaru</td>\n",
       "      <td>18.833333</td>\n",
       "    </tr>\n",
       "    <tr>\n",
       "      <th>9</th>\n",
       "      <td>toyota</td>\n",
       "      <td>14.375000</td>\n",
       "    </tr>\n",
       "    <tr>\n",
       "      <th>7</th>\n",
       "      <td>nissan</td>\n",
       "      <td>13.750000</td>\n",
       "    </tr>\n",
       "    <tr>\n",
       "      <th>3</th>\n",
       "      <td>jeep</td>\n",
       "      <td>13.500000</td>\n",
       "    </tr>\n",
       "    <tr>\n",
       "      <th>6</th>\n",
       "      <td>mercury</td>\n",
       "      <td>13.250000</td>\n",
       "    </tr>\n",
       "  </tbody>\n",
       "</table>\n",
       "</div>"
      ],
      "text/plain": [
       "  manufacturer   mean_cty\n",
       "8       subaru  18.833333\n",
       "9       toyota  14.375000\n",
       "7       nissan  13.750000\n",
       "3         jeep  13.500000\n",
       "6      mercury  13.250000"
      ]
     },
     "execution_count": 66,
     "metadata": {},
     "output_type": "execute_result"
    }
   ],
   "source": [
    "# suv 차종 추출\n",
    "# manufacturer별 분리\n",
    "# cty 평균 구하기\n",
    "# 내림차순 정렬\n",
    "# 상위 5행 추출\n",
    "df = mpg.query('category == \"suv\"') \\\n",
    "        .groupby('manufacturer', as_index = False) \\\n",
    "        .agg(mean_cty = ('cty','mean')) \\\n",
    "        .sort_values('mean_cty', ascending = False) \\\n",
    "        .head()\n",
    "df"
   ]
  },
  {
   "cell_type": "code",
   "execution_count": 67,
   "id": "eddfb507",
   "metadata": {
    "eval": false
   },
   "outputs": [
    {
     "data": {
      "text/plain": [
       "<Axes: xlabel='manufacturer', ylabel='mean_cty'>"
      ]
     },
     "execution_count": 67,
     "metadata": {},
     "output_type": "execute_result"
    },
    {
     "data": {
      "image/png": "[encoded data removed]",
      "text/plain": [
       "<Figure size 640x480 with 1 Axes>"
      ]
     },
     "metadata": {
      "image/png": {
       "height": 432,
       "width": 576
      }
     },
     "output_type": "display_data"
    }
   ],
   "source": [
    "# 막대 그래프 만들기\n",
    "sns.barplot(data = df, x = 'manufacturer', y = 'mean_cty')\n"
   ]
  },
  {
   "cell_type": "markdown",
   "id": "a34e655f",
   "metadata": {},
   "source": [
    "#### Q2"
   ]
  },
  {
   "cell_type": "code",
   "execution_count": 68,
   "id": "99b989e4",
   "metadata": {
    "lines_to_next_cell": 2
   },
   "outputs": [
    {
     "data": {
      "text/html": [
       "<div>\n",
       "<style scoped>\n",
       "    .dataframe tbody tr th:only-of-type {\n",
       "        vertical-align: middle;\n",
       "    }\n",
       "\n",
       "    .dataframe tbody tr th {\n",
       "        vertical-align: top;\n",
       "    }\n",
       "\n",
       "    .dataframe thead th {\n",
       "        text-align: right;\n",
       "    }\n",
       "</style>\n",
       "<table border=\"1\" class=\"dataframe\">\n",
       "  <thead>\n",
       "    <tr style=\"text-align: right;\">\n",
       "      <th></th>\n",
       "      <th>category</th>\n",
       "      <th>n</th>\n",
       "    </tr>\n",
       "  </thead>\n",
       "  <tbody>\n",
       "    <tr>\n",
       "      <th>6</th>\n",
       "      <td>suv</td>\n",
       "      <td>62</td>\n",
       "    </tr>\n",
       "    <tr>\n",
       "      <th>1</th>\n",
       "      <td>compact</td>\n",
       "      <td>47</td>\n",
       "    </tr>\n",
       "    <tr>\n",
       "      <th>2</th>\n",
       "      <td>midsize</td>\n",
       "      <td>41</td>\n",
       "    </tr>\n",
       "    <tr>\n",
       "      <th>5</th>\n",
       "      <td>subcompact</td>\n",
       "      <td>35</td>\n",
       "    </tr>\n",
       "    <tr>\n",
       "      <th>4</th>\n",
       "      <td>pickup</td>\n",
       "      <td>33</td>\n",
       "    </tr>\n",
       "    <tr>\n",
       "      <th>3</th>\n",
       "      <td>minivan</td>\n",
       "      <td>11</td>\n",
       "    </tr>\n",
       "    <tr>\n",
       "      <th>0</th>\n",
       "      <td>2seater</td>\n",
       "      <td>5</td>\n",
       "    </tr>\n",
       "  </tbody>\n",
       "</table>\n",
       "</div>"
      ],
      "text/plain": [
       "     category   n\n",
       "6         suv  62\n",
       "1     compact  47\n",
       "2     midsize  41\n",
       "5  subcompact  35\n",
       "4      pickup  33\n",
       "3     minivan  11\n",
       "0     2seater   5"
      ]
     },
     "execution_count": 68,
     "metadata": {},
     "output_type": "execute_result"
    }
   ],
   "source": [
    "# category별 분리\n",
    "# 빈도 구하기\n",
    "# 내림차순 정렬\n",
    "df_mpg = mpg.groupby('category', as_index = False) \\\n",
    "            .agg(n = ('category', 'count')) \\\n",
    "            .sort_values('n', ascending = False)\n",
    "\n",
    "df_mpg"
   ]
  },
  {
   "cell_type": "code",
   "execution_count": 69,
   "id": "affa275d",
   "metadata": {
    "eval": false
   },
   "outputs": [
    {
     "data": {
      "text/plain": [
       "<Axes: xlabel='category', ylabel='n'>"
      ]
     },
     "execution_count": 69,
     "metadata": {},
     "output_type": "execute_result"
    },
    {
     "data": {
      "image/png": "[encoded data removed]",
      "text/plain": [
       "<Figure size 640x480 with 1 Axes>"
      ]
     },
     "metadata": {
      "image/png": {
       "height": 432,
       "width": 562
      }
     },
     "output_type": "display_data"
    }
   ],
   "source": [
    "# 막대 그래프 만들기\n",
    "sns.barplot(data = df_mpg, x = 'category', y = 'n')\n"
   ]
  },
  {
   "cell_type": "markdown",
   "id": "5b9a30ab",
   "metadata": {},
   "source": [
    "### 217쪽 혼자서 해보기\n",
    "\n",
    "#### Q1"
   ]
  },
  {
   "cell_type": "code",
   "execution_count": 70,
   "id": "b5e73f32",
   "metadata": {
    "eval": false,
    "lines_to_next_cell": 2
   },
   "outputs": [
    {
     "data": {
      "text/plain": [
       "<Axes: xlabel='year', ylabel='psavert'>"
      ]
     },
     "execution_count": 70,
     "metadata": {},
     "output_type": "execute_result"
    },
    {
     "data": {
      "image/png": "[encoded data removed]",
      "text/plain": [
       "<Figure size 640x480 with 1 Axes>"
      ]
     },
     "metadata": {
      "image/png": {
       "height": 432,
       "width": 562
      }
     },
     "output_type": "display_data"
    }
   ],
   "source": [
    "# economics 데이터 불러오기\n",
    "economics = pd.read_csv('economics.csv')\n",
    "\n",
    "# 날짜 시간 타입 변수 만들기\n",
    "economics['date2'] = pd.to_datetime(economics['date'])\n",
    "\n",
    "# 연도 변수 추가\n",
    "economics['year'] = economics['date2'].dt.year\n",
    "\n",
    "# 연도별 개인 저축률 선 그래프\n",
    "sns.lineplot(data = economics, x = 'year', y = 'psavert', errorbar = None)"
   ]
  },
  {
   "cell_type": "markdown",
   "id": "81b0593a",
   "metadata": {},
   "source": [
    "#### Q2"
   ]
  },
  {
   "cell_type": "code",
   "execution_count": 71,
   "id": "3070b018",
   "metadata": {
    "eval": false,
    "fig.show": "hide",
    "lines_to_next_cell": 2
   },
   "outputs": [
    {
     "data": {
      "text/plain": [
       "<Axes: xlabel='month', ylabel='psavert'>"
      ]
     },
     "execution_count": 71,
     "metadata": {},
     "output_type": "execute_result"
    },
    {
     "data": {
      "image/png": "[encoded data removed]",
      "text/plain": [
       "<Figure size 640x480 with 1 Axes>"
      ]
     },
     "metadata": {
      "image/png": {
       "height": 432,
       "width": 567
      }
     },
     "output_type": "display_data"
    }
   ],
   "source": [
    "# 월 변수 추가\n",
    "economics['month'] = economics['date2'].dt.month                     \n",
    "\n",
    "# 2014년 추출\n",
    "df_2014 = economics.query('year == 2014')                           \n",
    "\n",
    "# 선 그래프 만들기\n",
    "sns.lineplot(data = df_2014, x = 'month', y = 'psavert', errorbar = None) "
   ]
  },
  {
   "cell_type": "markdown",
   "id": "ca5439ba",
   "metadata": {},
   "source": [
    "### 220쪽 혼자서 해보기"
   ]
  },
  {
   "cell_type": "markdown",
   "id": "2d0601ad",
   "metadata": {},
   "source": [
    "#### Q1"
   ]
  },
  {
   "cell_type": "code",
   "execution_count": 72,
   "id": "fb7aaa63",
   "metadata": {
    "eval": false
   },
   "outputs": [
    {
     "data": {
      "text/plain": [
       "<Axes: xlabel='category', ylabel='cty'>"
      ]
     },
     "execution_count": 72,
     "metadata": {},
     "output_type": "execute_result"
    },
    {
     "data": {
      "image/png": "[encoded data removed]",
      "text/plain": [
       "<Figure size 640x480 with 1 Axes>"
      ]
     },
     "metadata": {
      "image/png": {
       "height": 432,
       "width": 562
      }
     },
     "output_type": "display_data"
    }
   ],
   "source": [
    "# mpg 데이터 불러오기\n",
    "mpg = pd.read_csv('mpg.csv')\n",
    "\n",
    "# compact, subcompact, suv 차종 추출\n",
    "df = mpg.query('category in [\"compact\", \"subcompact\", \"suv\"]')\n",
    "\n",
    "# 상자 그림 만들기\n",
    "sns.boxplot(data = df, x = 'category', y = 'cty')"
   ]
  }
 ],
 "metadata": {
  "jupytext": {
   "cell_metadata_filter": "echo,eval,fig.show,name,tags,-all",
   "notebook_metadata_filter": "-all"
  },
  "kernelspec": {
   "display_name": "Python 3 (ipykernel)",
   "language": "python",
   "name": "python3"
  },
  "language_info": {
   "codemirror_mode": {
    "name": "ipython",
    "version": 3
   },
   "file_extension": ".py",
   "mimetype": "text/x-python",
   "name": "python",
   "nbconvert_exporter": "python",
   "pygments_lexer": "ipython3",
   "version": "3.11.5"
  }
 },
 "nbformat": 4,
 "nbformat_minor": 5
}
